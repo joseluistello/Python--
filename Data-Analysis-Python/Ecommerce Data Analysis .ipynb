{
 "cells": [
  {
   "cell_type": "markdown",
   "metadata": {},
   "source": [
    "#### ¡Hola! 👋  \n",
    "\n",
    "Este es un proyecto especial, por primera vez escribire en español. Creo en que (equivocadamente) le di la espalda al español bajo una falsa premisa. Ahora se que puedo contribuir  al ecosistema hispano más de lo que podria en el anglosajon.\n",
    "\n",
    "Empezare publicando un analisis donde detallare cada uno de mis pasos. Lo hare con datos que tome del canal [A2 Capacitación: Excel](https://www.youtube.com/channel/UCSW-_m4KXiok4Hq2nK97atw) y el cual les recomiendo seguir si quieren aprender Excel.\n",
    "\n",
    "Dejando de lado lo anterior, hace tiempo escribi un articulo (esta incompleto) sobre [mi proceso para analizar datos](https://joseluistello.github.io/r/2021/07/12/data-analysis-process.html), la idea detras de este approach es abordar el analisis a traves de diferentes etapas. Estas etapas buscan estandarizar la manera en que analizo cualquier tipo de dato.\n",
    "\n",
    "El outcome de mi proceso consiste en priorizar la legibilidad de mi analisis abordando cada etapa de forma separada (más no aislada).\n",
    "\n",
    "Al final del día, lo que busco es entender la relacion entre mis variables y encontrar un path entre las observaciones dentro de mis datos. \n",
    "\n",
    "\n",
    "Empecemos por cargar nuestras librerias y datos <3"
   ]
  },
  {
   "cell_type": "code",
   "execution_count": 1,
   "metadata": {},
   "outputs": [],
   "source": [
    "import pandas as pd\n",
    "import matplotlib as plt\n",
    "import seaborn as sns\n",
    "import matplotlib.pyplot as plt"
   ]
  },
  {
   "cell_type": "code",
   "execution_count": 2,
   "metadata": {},
   "outputs": [],
   "source": [
    "df = pd.read_csv(\n",
    "    'data/Datos.csv',\n",
    "    dtype={\n",
    "        \"Orden\": int,\n",
    "        \"Medio\" : str,\n",
    "        \"Vendedor\" : str,\n",
    "        \"Plataforma\" : str,\n",
    "        \"Tipo_Orden\" : str,\n",
    "        \"Tipo_Cliente\" : str,\n",
    "        \"Categoría\" : str,\n",
    "        \"Producto\" : str,\n",
    "        \"Precio\" : int,\n",
    "    },\n",
    ")"
   ]
  },
  {
   "cell_type": "markdown",
   "metadata": {},
   "source": [
    "La razón del porque esribi el upload del archivo de esta manera se debe a que es más facil editar el tipo de dato antes de, que despues de.\n",
    "\n",
    "Este es un ejemplo de como tendriamos que modificar cada tipo de dato.\n",
    "\n",
    "- df[\"Precio\"] = pd.to_numeric(df[\"Precio\"])\n",
    "\n"
   ]
  },
  {
   "cell_type": "markdown",
   "metadata": {},
   "source": [
    "Ahora es tiempo de dos cosas:\n",
    "\n",
    "1. Colocar un limite al maximo de filas que se muestran en cada return\n",
    "2. Establecer un default para el tamaño de las graficas \n",
    "\n",
    "Les sugiero que utilicen este default. Es comodo establecer limites en el display de filas así como aumentar el tamaño de los plots."
   ]
  },
  {
   "cell_type": "code",
   "execution_count": 3,
   "metadata": {},
   "outputs": [],
   "source": [
    "pd.set_option(\"display.max_rows\", 12)\n",
    "\n",
    "%matplotlib inline\n",
    "plt.rcParams['figure.figsize'] = (12, 10)"
   ]
  },
  {
   "cell_type": "markdown",
   "metadata": {},
   "source": [
    "### ¡Tiempo de entender nuestros datos! "
   ]
  },
  {
   "cell_type": "code",
   "execution_count": 4,
   "metadata": {},
   "outputs": [
    {
     "name": "stdout",
     "output_type": "stream",
     "text": [
      "<class 'pandas.core.frame.DataFrame'>\n",
      "RangeIndex: 63221 entries, 0 to 63220\n",
      "Data columns (total 12 columns):\n",
      " #   Column        Non-Null Count  Dtype \n",
      "---  ------        --------------  ----- \n",
      " 0   Orden         63221 non-null  int32 \n",
      " 1   Fecha         63221 non-null  object\n",
      " 2   Medio         63221 non-null  object\n",
      " 3   Vendedor      63221 non-null  object\n",
      " 4   Plataforma    63221 non-null  object\n",
      " 5   Comision      63221 non-null  object\n",
      " 6   Tipo_Orden    63221 non-null  object\n",
      " 7   Tipo_Cliente  63221 non-null  object\n",
      " 8   Sexo          63221 non-null  object\n",
      " 9   Categoría     63221 non-null  object\n",
      " 10  Producto      63221 non-null  object\n",
      " 11  Precio        63221 non-null  int32 \n",
      "dtypes: int32(2), object(10)\n",
      "memory usage: 5.3+ MB\n"
     ]
    }
   ],
   "source": [
    "df.info()"
   ]
  },
  {
   "cell_type": "markdown",
   "metadata": {},
   "source": [
    "🇫🇷  **Le Magnifique** 🇫🇷 \n",
    "\n",
    "Tenemos variables interesantes pero primero debemos entender a que nos enfrentamos. El hecho de hacer preguntas como:\n",
    "* ¿Son cualitativas o cuantitativas? \n",
    "* ¿Son continuas o categorias? \n",
    "Nos ayuda a tener una idea de como abordar un analisis. Empecemos por explicar la ciasificación de las variables.\n",
    "\n",
    "- Los datos categoricos responden a preguntas como \"qué\", \"quienes\", o \"donde\", y se clasifican en tres grupos:\n",
    "    - Datos nominales \n",
    "        - No tienen un orden (Paises)\n",
    "    - Datos ordinales \n",
    "        - Tienen un orden (Grado de quemadura)\n",
    "    - Datos binarios (dicotomicos) \n",
    "        - Solo tienen dos niveles (Genero)\n",
    "\n",
    "- Los datos cuantitativos responden a preguntas como \"cuántos\", \"cuánto\" o con \"qué\" frecuencia, y se clasifican en dos grupos:\n",
    "    - Datos discretos - No tienen decimales\n",
    "        - Se pueden clasificar\n",
    "        - Pueden ser ordinales (1ra, 2da, 3ra clase)\n",
    "        - Pueden ser binarios (Vivo o muerto 1/0)\n",
    "        - Pueden ser intervalios o ratios (Temperaturas)\n",
    "    - Datos continuos - Tienen decimales\n",
    "        - Lo mismo de arriba\n",
    "\n",
    "\n",
    "Ahora que damos más claro esta parte, es hora de clasificar nuestro dataset."
   ]
  },
  {
   "cell_type": "code",
   "execution_count": 5,
   "metadata": {},
   "outputs": [
    {
     "data": {
      "text/html": [
       "<div>\n",
       "<style scoped>\n",
       "    .dataframe tbody tr th:only-of-type {\n",
       "        vertical-align: middle;\n",
       "    }\n",
       "\n",
       "    .dataframe tbody tr th {\n",
       "        vertical-align: top;\n",
       "    }\n",
       "\n",
       "    .dataframe thead th {\n",
       "        text-align: right;\n",
       "    }\n",
       "</style>\n",
       "<table border=\"1\" class=\"dataframe\">\n",
       "  <thead>\n",
       "    <tr style=\"text-align: right;\">\n",
       "      <th></th>\n",
       "      <th>Orden</th>\n",
       "      <th>Fecha</th>\n",
       "      <th>Medio</th>\n",
       "      <th>Vendedor</th>\n",
       "      <th>Plataforma</th>\n",
       "      <th>Comision</th>\n",
       "      <th>Tipo_Orden</th>\n",
       "      <th>Tipo_Cliente</th>\n",
       "      <th>Sexo</th>\n",
       "      <th>Categoría</th>\n",
       "      <th>Producto</th>\n",
       "      <th>Precio</th>\n",
       "    </tr>\n",
       "  </thead>\n",
       "  <tbody>\n",
       "    <tr>\n",
       "      <th>0</th>\n",
       "      <td>1</td>\n",
       "      <td>06/08/2017</td>\n",
       "      <td>Propio</td>\n",
       "      <td>Directo en Tienda</td>\n",
       "      <td>Website</td>\n",
       "      <td>0%</td>\n",
       "      <td>Compra</td>\n",
       "      <td>Repetido</td>\n",
       "      <td>Hombre</td>\n",
       "      <td>Pantalones</td>\n",
       "      <td>Pants de Entrenamiento Reactivo</td>\n",
       "      <td>40</td>\n",
       "    </tr>\n",
       "    <tr>\n",
       "      <th>1</th>\n",
       "      <td>1</td>\n",
       "      <td>06/08/2017</td>\n",
       "      <td>Propio</td>\n",
       "      <td>Directo en Tienda</td>\n",
       "      <td>Website</td>\n",
       "      <td>0%</td>\n",
       "      <td>Compra</td>\n",
       "      <td>Repetido</td>\n",
       "      <td>Hombre</td>\n",
       "      <td>Sudaderas y chamarras</td>\n",
       "      <td>Sudadera sin Costuras</td>\n",
       "      <td>50</td>\n",
       "    </tr>\n",
       "    <tr>\n",
       "      <th>2</th>\n",
       "      <td>1</td>\n",
       "      <td>06/08/2017</td>\n",
       "      <td>Propio</td>\n",
       "      <td>Directo en Tienda</td>\n",
       "      <td>Website</td>\n",
       "      <td>0%</td>\n",
       "      <td>Compra</td>\n",
       "      <td>Repetido</td>\n",
       "      <td>Mujeres</td>\n",
       "      <td>Leggings</td>\n",
       "      <td>Leggings Ombre</td>\n",
       "      <td>36</td>\n",
       "    </tr>\n",
       "    <tr>\n",
       "      <th>3</th>\n",
       "      <td>1</td>\n",
       "      <td>06/08/2017</td>\n",
       "      <td>Propio</td>\n",
       "      <td>Directo en Tienda</td>\n",
       "      <td>Website</td>\n",
       "      <td>0%</td>\n",
       "      <td>Compra</td>\n",
       "      <td>Repetido</td>\n",
       "      <td>Mujeres</td>\n",
       "      <td>Bra deportivo</td>\n",
       "      <td>Bra Vital sin costuras</td>\n",
       "      <td>40</td>\n",
       "    </tr>\n",
       "    <tr>\n",
       "      <th>4</th>\n",
       "      <td>1</td>\n",
       "      <td>06/08/2017</td>\n",
       "      <td>Propio</td>\n",
       "      <td>Directo en Tienda</td>\n",
       "      <td>Website</td>\n",
       "      <td>0%</td>\n",
       "      <td>Compra</td>\n",
       "      <td>Repetido</td>\n",
       "      <td>Hombre</td>\n",
       "      <td>Camisetas</td>\n",
       "      <td>Camiseta Heather</td>\n",
       "      <td>50</td>\n",
       "    </tr>\n",
       "  </tbody>\n",
       "</table>\n",
       "</div>"
      ],
      "text/plain": [
       "   Orden       Fecha   Medio           Vendedor Plataforma Comision  \\\n",
       "0      1  06/08/2017  Propio  Directo en Tienda    Website       0%   \n",
       "1      1  06/08/2017  Propio  Directo en Tienda    Website       0%   \n",
       "2      1  06/08/2017  Propio  Directo en Tienda    Website       0%   \n",
       "3      1  06/08/2017  Propio  Directo en Tienda    Website       0%   \n",
       "4      1  06/08/2017  Propio  Directo en Tienda    Website       0%   \n",
       "\n",
       "  Tipo_Orden Tipo_Cliente     Sexo              Categoría  \\\n",
       "0     Compra     Repetido   Hombre             Pantalones   \n",
       "1     Compra     Repetido   Hombre  Sudaderas y chamarras   \n",
       "2     Compra     Repetido  Mujeres               Leggings   \n",
       "3     Compra     Repetido  Mujeres          Bra deportivo   \n",
       "4     Compra     Repetido   Hombre              Camisetas   \n",
       "\n",
       "                          Producto  Precio  \n",
       "0  Pants de Entrenamiento Reactivo      40  \n",
       "1            Sudadera sin Costuras      50  \n",
       "2                   Leggings Ombre      36  \n",
       "3           Bra Vital sin costuras      40  \n",
       "4                 Camiseta Heather      50  "
      ]
     },
     "execution_count": 5,
     "metadata": {},
     "output_type": "execute_result"
    }
   ],
   "source": [
    "df.head()"
   ]
  },
  {
   "cell_type": "markdown",
   "metadata": {},
   "source": [
    "- Datos Categoricos\n",
    "     - Medio\n",
    "     - Vendedor\n",
    "     - Plataforma\n",
    "     - Tipo_Orden\n",
    "     - Tipo_Cliente\n",
    "     - Sexo\n",
    "     - Categoia\n",
    "     - Producto\n",
    "- Datos Continuos\n",
    "     - Fecha\n",
    "     - Comision\n",
    "     - Precio\n",
    "     \n",
    "¿En que tipo de subgrupo crees que entren? Te lo dejo de tarea 😂 "
   ]
  },
  {
   "cell_type": "markdown",
   "metadata": {},
   "source": [
    "Una de las cosas que me gusta hacer antes de buscar patrones es aislar variables. \n",
    "Este aislamiento me permite generar pistas acerca del dataset. Puedo ver el peso de cada variable, su distribución, sus rangos, las desviaciones que tiene, etc.  "
   ]
  },
  {
   "cell_type": "code",
   "execution_count": 6,
   "metadata": {},
   "outputs": [
    {
     "data": {
      "text/plain": [
       "Mujeres    35937\n",
       "Hombre     27284\n",
       "Name: Sexo, dtype: int64"
      ]
     },
     "execution_count": 6,
     "metadata": {},
     "output_type": "execute_result"
    }
   ],
   "source": [
    "(\n",
    "df[\"Sexo\"]\n",
    "    .value_counts()\n",
    ")"
   ]
  },
  {
   "cell_type": "code",
   "execution_count": 7,
   "metadata": {},
   "outputs": [
    {
     "data": {
      "text/plain": [
       "Mujeres    56.8%\n",
       "Hombre     43.2%\n",
       "Name: Sexo, dtype: object"
      ]
     },
     "execution_count": 7,
     "metadata": {},
     "output_type": "execute_result"
    }
   ],
   "source": [
    "(\n",
    "df[\"Sexo\"]\n",
    "    .value_counts(normalize=True)\n",
    "    .mul(100)\n",
    "    .round(1)\n",
    "    .astype(str) + '%'\n",
    ")"
   ]
  },
  {
   "cell_type": "markdown",
   "metadata": {},
   "source": [
    "Ahora se que existe una mayoría de mujeres dentro de mi set, lo cual me da señales que planeo ir guardando. Pensemoslo de esta manera:\n",
    "Ir directo a enteder la relacion entre plataformas/ventas/sexo puede salir mal, existe la posibilidad de sesgar mis pensamientos en torno a un resultado. \n",
    "Puedo concluir en que se debe invertir dinero en tal plataforma porque esto atraera 'X' clientes hombres. Cuando tal vez, existan mejores lugares para poner el dinero. \n",
    "\n",
    "Por cierto, escribo el codigo en vertical debido a que quiero hacer legible mi analisis para su reproducción, al mismo tiempo que emulo los pipelines de R."
   ]
  },
  {
   "cell_type": "markdown",
   "metadata": {},
   "source": [
    "Bueno, sigamos marchando!"
   ]
  },
  {
   "cell_type": "code",
   "execution_count": 8,
   "metadata": {},
   "outputs": [
    {
     "data": {
      "text/plain": [
       "Instagram    53.6%\n",
       "Youtube      17.5%\n",
       "Facebook     15.4%\n",
       "Website      13.5%\n",
       "Name: Plataforma, dtype: object"
      ]
     },
     "execution_count": 8,
     "metadata": {},
     "output_type": "execute_result"
    }
   ],
   "source": [
    "(\n",
    "df[\"Plataforma\"]\n",
    "    .value_counts(normalize=True)\n",
    "    .mul(100)\n",
    "    .round(1)\n",
    "    .astype(str)+ '%'\n",
    ")"
   ]
  },
  {
   "cell_type": "markdown",
   "metadata": {},
   "source": [
    "Lo que nos arroja este resultado es el total de observaciones que presento cada plataforma. Esto quiere decir (hasta ahora) que Instagram es la que más unidades vende, pero eso no significa que sea la que más revenue genere."
   ]
  },
  {
   "cell_type": "code",
   "execution_count": 70,
   "metadata": {},
   "outputs": [
    {
     "data": {
      "text/plain": [
       "Publicidad Insta      20.0%\n",
       "Directo en Tienda     13.5%\n",
       "Publicidad Face        9.4%\n",
       "Publicidad Youtube     7.9%\n",
       "karlagvzcia            4.5%\n",
       "                      ...  \n",
       "geogluisovec           0.5%\n",
       "gypseajain             0.5%\n",
       "nicole.izuristilo      0.5%\n",
       "anacsimdao             0.3%\n",
       "andreaheraz            0.3%\n",
       "Name: Vendedor, Length: 44, dtype: object"
      ]
     },
     "execution_count": 70,
     "metadata": {},
     "output_type": "execute_result"
    }
   ],
   "source": [
    "(\n",
    "df[\"Vendedor\"]\n",
    "    .value_counts(normalize=True)\n",
    "    .mul(100)\n",
    "    .round(1)\n",
    "    .astype(str)+ '%'\n",
    ")"
   ]
  },
  {
   "cell_type": "code",
   "execution_count": 71,
   "metadata": {
    "scrolled": false
   },
   "outputs": [
    {
     "data": {
      "text/plain": [
       "<function matplotlib.pyplot.show(close=None, block=None)>"
      ]
     },
     "execution_count": 71,
     "metadata": {},
     "output_type": "execute_result"
    },
    {
     "data": {
      "image/png": "[encoded data removed]",
      "text/plain": [
       "<Figure size 864x720 with 1 Axes>"
      ]
     },
     "metadata": {
      "needs_background": "light"
     },
     "output_type": "display_data"
    }
   ],
   "source": [
    "df[\"Vendedor\"].hist(bins=10, color='r')\n",
    "plt.xticks(rotation='vertical')\n",
    "plt.grid(False)\n",
    "plt.show"
   ]
  },
  {
   "cell_type": "code",
   "execution_count": 11,
   "metadata": {},
   "outputs": [
    {
     "data": {
      "text/plain": [
       "Repetido    32561\n",
       "Nuevo       30660\n",
       "Name: Tipo_Cliente, dtype: int64"
      ]
     },
     "execution_count": 11,
     "metadata": {},
     "output_type": "execute_result"
    }
   ],
   "source": [
    "(\n",
    "df[\"Tipo_Cliente\"]\n",
    "    .value_counts()\n",
    ")"
   ]
  },
  {
   "cell_type": "code",
   "execution_count": 12,
   "metadata": {},
   "outputs": [
    {
     "data": {
      "text/plain": [
       "Compra        91.0%\n",
       "Devolucion     9.0%\n",
       "Name: Tipo_Orden, dtype: object"
      ]
     },
     "execution_count": 12,
     "metadata": {},
     "output_type": "execute_result"
    }
   ],
   "source": [
    "(\n",
    "df[\"Tipo_Orden\"]\n",
    "    .value_counts(normalize=True)\n",
    "    .mul(100)\n",
    "    .round(1)\n",
    "    .astype(str)+ '%'\n",
    ")"
   ]
  },
  {
   "cell_type": "code",
   "execution_count": 13,
   "metadata": {},
   "outputs": [
    {
     "data": {
      "text/plain": [
       "0%     32150\n",
       "30%    12807\n",
       "20%     6702\n",
       "10%     5872\n",
       "40%     5690\n",
       "Name: Comision, dtype: int64"
      ]
     },
     "execution_count": 13,
     "metadata": {},
     "output_type": "execute_result"
    }
   ],
   "source": [
    "(\n",
    "df[\"Comision\"]\n",
    "    .value_counts()\n",
    ")"
   ]
  },
  {
   "cell_type": "code",
   "execution_count": 14,
   "metadata": {},
   "outputs": [
    {
     "data": {
      "text/plain": [
       "Propio        50.9%\n",
       "Influencer    49.1%\n",
       "Name: Medio, dtype: object"
      ]
     },
     "execution_count": 14,
     "metadata": {},
     "output_type": "execute_result"
    }
   ],
   "source": [
    "(\n",
    "df[\"Medio\"]\n",
    "    .value_counts(normalize=True)\n",
    "    .mul(100)\n",
    "    .round(1)\n",
    "    .astype(str)+ '%'\n",
    ")"
   ]
  },
  {
   "cell_type": "code",
   "execution_count": 15,
   "metadata": {},
   "outputs": [
    {
     "data": {
      "text/plain": [
       "count    63221.0\n",
       "mean        40.7\n",
       "std         13.6\n",
       "min         10.0\n",
       "25%         34.0\n",
       "50%         40.0\n",
       "75%         50.0\n",
       "max        100.0\n",
       "Name: Precio, dtype: float64"
      ]
     },
     "execution_count": 15,
     "metadata": {},
     "output_type": "execute_result"
    }
   ],
   "source": [
    "( \n",
    "df[\"Precio\"]\n",
    "    .describe()\n",
    "    .round(1)\n",
    ")"
   ]
  },
  {
   "cell_type": "code",
   "execution_count": 46,
   "metadata": {},
   "outputs": [
    {
     "data": {
      "text/plain": [
       "Text(0, 0.5, 'Volumen de productos')"
      ]
     },
     "execution_count": 46,
     "metadata": {},
     "output_type": "execute_result"
    },
    {
     "data": {
      "image/png": "[encoded data removed]",
      "text/plain": [
       "<Figure size 864x720 with 1 Axes>"
      ]
     },
     "metadata": {
      "needs_background": "light"
     },
     "output_type": "display_data"
    }
   ],
   "source": [
    "PrecioDist = sns.histplot(\n",
    "    df, \n",
    "    x=\"Precio\",\n",
    "    bins=10,\n",
    "    linewidth=3, \n",
    "    kde = True)\n",
    "PrecioDist.set_xlabel(\"Precio de los productos\", fontsize = 15)\n",
    "PrecioDist.set_ylabel(\"Volumen de productos\", fontsize = 15)"
   ]
  },
  {
   "cell_type": "markdown",
   "metadata": {},
   "source": [
    "Bueno, ya se puso interesante la cosa. Hasta ahora hemos aprendido:\n",
    "1. El volumen de ventas es dominado por Instagram, lejos de Youtube, Facebook y el Website\n",
    "2. Las mujeres representan el 56.8% de las observaciones mientras que los hombres tienen el 43.2%\n",
    "3. El 55.3% de las ventas se concentra en 5 vendedores y el 42.9% en 3\n",
    "4. Hay 44 vendedores \"afiliados\" a la compañia, me parecen muchos. Me causa algo de ruido.\n",
    "5. Tienen \"buena\" retencion y lo coloco entre comillas ya que bien puede desplozarme despues de que un repetido compro, o sea que no hubo una tercera vez.\n",
    "6. Hubo pocas devoluciones comparado a sus compras, 9% comparado con un 91%\n",
    "7. Existen 5 tipos de comisiones donde la mayoria se concentra entre el 0% y 30%\n",
    "8. El precio de los productos tiene un de 10 pesos y un maximo 100 pesos donde la mayoria de los productos se concentra entre los 20 y 50 pesos\n"
   ]
  },
  {
   "cell_type": "markdown",
   "metadata": {},
   "source": [
    "##### Es tiempo de entender las relaciones entre nuestas variables. \n",
    "\n",
    "El aislamiento ya dio muchas pistas así que es tiempo de parar. He llegado al punto donde es necesario contar con un plan de ataque pues de lo contrario terminare perdiendome. Tengo muchas preguntas, desde saber donde se concentran las comisiones y porque, hasta entender de donde viene realmente el crecimiento.\n",
    "\n",
    "Pensemoslo un poco, si las comisiones del 40% se concentran en un rango de precio elevado (100) , tendriamos un dropeo del revenue del 40 pesos. A los 60 pesos restantes todavía tenemos que agregarle mas costos fijos y variables. \n",
    "La empresa puede estar perdiendo dinero sin siquiera notarlo. \n",
    "\n",
    "Se que estoy limitado por paradigmas, esquemas y modelos pero en otro contexto esto podría ser cierto. Mucho ojo.\n",
    "\n",
    "Si no fui muy claro, dejame que te lo explique de esta manera. En este punto debemos comenzar a preguntarnos que es lo que queremos lograr y como una variable depende o se relaciona con la otra, y el como podemos sacar el maximo provecho de eso.\n",
    "\n",
    "**(Inserta imagen creada en Lunacy)[]**\n",
    "\n",
    "Mmmmm, voy a utilizar un approach top-down. Esto significa que ire desde arriba hacía abajo explorando cada relacion que este en mi cabeza. Empezar desde arriba\n",
    "\n",
    "**(Inserta imagen creada en Lunacy)[]**\n",
    "\n",
    "Listo pues, ahora que todo quedo claro es tiempo de comenzar."
   ]
  },
  {
   "cell_type": "code",
   "execution_count": 79,
   "metadata": {},
   "outputs": [
    {
     "data": {
      "text/html": [
       "<div>\n",
       "<style scoped>\n",
       "    .dataframe tbody tr th:only-of-type {\n",
       "        vertical-align: middle;\n",
       "    }\n",
       "\n",
       "    .dataframe tbody tr th {\n",
       "        vertical-align: top;\n",
       "    }\n",
       "\n",
       "    .dataframe thead th {\n",
       "        text-align: right;\n",
       "    }\n",
       "</style>\n",
       "<table border=\"1\" class=\"dataframe\">\n",
       "  <thead>\n",
       "    <tr style=\"text-align: right;\">\n",
       "      <th></th>\n",
       "      <th>Sexo</th>\n",
       "      <th>Precio</th>\n",
       "    </tr>\n",
       "  </thead>\n",
       "  <tbody>\n",
       "    <tr>\n",
       "      <th>1</th>\n",
       "      <td>Mujeres</td>\n",
       "      <td>1380627</td>\n",
       "    </tr>\n",
       "    <tr>\n",
       "      <th>0</th>\n",
       "      <td>Hombre</td>\n",
       "      <td>1191223</td>\n",
       "    </tr>\n",
       "  </tbody>\n",
       "</table>\n",
       "</div>"
      ],
      "text/plain": [
       "      Sexo   Precio\n",
       "1  Mujeres  1380627\n",
       "0   Hombre  1191223"
      ]
     },
     "execution_count": 79,
     "metadata": {},
     "output_type": "execute_result"
    }
   ],
   "source": [
    "(\n",
    "df\n",
    " .groupby('Sexo')['Precio']\n",
    " .sum().reset_index()\n",
    " .sort_values('Precio', ascending=False)\n",
    ")"
   ]
  },
  {
   "cell_type": "code",
   "execution_count": 146,
   "metadata": {},
   "outputs": [
    {
     "data": {
      "text/html": [
       "<div>\n",
       "<style scoped>\n",
       "    .dataframe tbody tr th:only-of-type {\n",
       "        vertical-align: middle;\n",
       "    }\n",
       "\n",
       "    .dataframe tbody tr th {\n",
       "        vertical-align: top;\n",
       "    }\n",
       "\n",
       "    .dataframe thead th {\n",
       "        text-align: right;\n",
       "    }\n",
       "</style>\n",
       "<table border=\"1\" class=\"dataframe\">\n",
       "  <thead>\n",
       "    <tr style=\"text-align: right;\">\n",
       "      <th></th>\n",
       "      <th>Plataforma</th>\n",
       "      <th>Sexo</th>\n",
       "      <th>Precio</th>\n",
       "    </tr>\n",
       "  </thead>\n",
       "  <tbody>\n",
       "    <tr>\n",
       "      <th>1</th>\n",
       "      <td>Facebook</td>\n",
       "      <td>Mujeres</td>\n",
       "      <td>213132</td>\n",
       "    </tr>\n",
       "    <tr>\n",
       "      <th>3</th>\n",
       "      <td>Instagram</td>\n",
       "      <td>Mujeres</td>\n",
       "      <td>741824</td>\n",
       "    </tr>\n",
       "    <tr>\n",
       "      <th>5</th>\n",
       "      <td>Website</td>\n",
       "      <td>Mujeres</td>\n",
       "      <td>188001</td>\n",
       "    </tr>\n",
       "    <tr>\n",
       "      <th>7</th>\n",
       "      <td>Youtube</td>\n",
       "      <td>Mujeres</td>\n",
       "      <td>237670</td>\n",
       "    </tr>\n",
       "    <tr>\n",
       "      <th>0</th>\n",
       "      <td>Facebook</td>\n",
       "      <td>Hombre</td>\n",
       "      <td>182941</td>\n",
       "    </tr>\n",
       "    <tr>\n",
       "      <th>2</th>\n",
       "      <td>Instagram</td>\n",
       "      <td>Hombre</td>\n",
       "      <td>637018</td>\n",
       "    </tr>\n",
       "    <tr>\n",
       "      <th>4</th>\n",
       "      <td>Website</td>\n",
       "      <td>Hombre</td>\n",
       "      <td>159314</td>\n",
       "    </tr>\n",
       "    <tr>\n",
       "      <th>6</th>\n",
       "      <td>Youtube</td>\n",
       "      <td>Hombre</td>\n",
       "      <td>211950</td>\n",
       "    </tr>\n",
       "  </tbody>\n",
       "</table>\n",
       "</div>"
      ],
      "text/plain": [
       "  Plataforma     Sexo  Precio\n",
       "1   Facebook  Mujeres  213132\n",
       "3  Instagram  Mujeres  741824\n",
       "5    Website  Mujeres  188001\n",
       "7    Youtube  Mujeres  237670\n",
       "0   Facebook   Hombre  182941\n",
       "2  Instagram   Hombre  637018\n",
       "4    Website   Hombre  159314\n",
       "6    Youtube   Hombre  211950"
      ]
     },
     "execution_count": 146,
     "metadata": {},
     "output_type": "execute_result"
    }
   ],
   "source": [
    "(\n",
    "df\n",
    " .groupby(['Plataforma', 'Sexo'])\n",
    " ['Precio']\n",
    " .sum()\n",
    " .reset_index()\n",
    " .sort_values('Sexo', ascending=False)\n",
    ")"
   ]
  },
  {
   "cell_type": "code",
   "execution_count": 17,
   "metadata": {},
   "outputs": [
    {
     "data": {
      "text/plain": [
       "Text(0, 0.5, 'Numero de unidades vendidas')"
      ]
     },
     "execution_count": 17,
     "metadata": {},
     "output_type": "execute_result"
    },
    {
     "data": {
      "image/png": "[encoded data removed]",
      "text/plain": [
       "<Figure size 864x720 with 1 Axes>"
      ]
     },
     "metadata": {
      "needs_background": "light"
     },
     "output_type": "display_data"
    }
   ],
   "source": [
    "bx = sns.histplot(df,\n",
    "                  x=\"Medio\",\n",
    "                  hue='Sexo',\n",
    "                  linewidth=2)\n",
    "bx.set_title(\"Canales y su distribucion por genero\", fontsize=18)\n",
    "bx.set_xlabel(\"Canal por el que se vendio\", fontsize = 15)\n",
    "bx.set_ylabel(\"Numero de unidades vendidas\", fontsize = 15)"
   ]
  },
  {
   "cell_type": "code",
   "execution_count": 18,
   "metadata": {},
   "outputs": [
    {
     "data": {
      "text/plain": [
       "Text(0, 0.5, 'Numero de ventas')"
      ]
     },
     "execution_count": 18,
     "metadata": {},
     "output_type": "execute_result"
    },
    {
     "data": {
      "image/png": "[encoded data removed]",
      "text/plain": [
       "<Figure size 864x720 with 1 Axes>"
      ]
     },
     "metadata": {
      "needs_background": "light"
     },
     "output_type": "display_data"
    }
   ],
   "source": [
    "d = sns.histplot(\n",
    "    df, \n",
    "    x=\"Plataforma\",\n",
    "    hue=\"Sexo\",\n",
    "    linewidth=2)\n",
    "d.set_xlabel(\"Platorma Digital\", fontsize = 15)\n",
    "d.set_ylabel(\"Numero de ventas\", fontsize = 15)"
   ]
  },
  {
   "cell_type": "code",
   "execution_count": 151,
   "metadata": {},
   "outputs": [
    {
     "data": {
      "text/plain": [
       "<seaborn.axisgrid.FacetGrid at 0x20fc36f7d60>"
      ]
     },
     "execution_count": 151,
     "metadata": {},
     "output_type": "execute_result"
    },
    {
     "data": {
      "image/png": "[encoded data removed]",
      "text/plain": [
       "<Figure size 1440x720 with 8 Axes>"
      ]
     },
     "metadata": {
      "needs_background": "light"
     },
     "output_type": "display_data"
    }
   ],
   "source": [
    "sns.displot(df, \n",
    "            x=\"Precio\", \n",
    "            col=\"Plataforma\", \n",
    "            row=\"Sexo\", \n",
    "            binwidth=6, \n",
    "            height=5, \n",
    "            facet_kws=dict(margin_titles=True))"
   ]
  },
  {
   "cell_type": "markdown",
   "metadata": {},
   "source": [
    "Ya estamos obteniendo insights.\n",
    "\n",
    "1. Hay casi 7,000 mujeres mas que hombres dentro de la plataforma.\n",
    "2. Se vende un poco más por canales propios y los generos siguen esa tendencia. \n",
    "3. Las plataformas que más predomina es Instagram, seguido de Youtube, Facebook y el Website del comercio.\n",
    "4. Las mujeres se mantienen a la cabeza dentro de los 4 canales. \n",
    "5. En el ultimo histograma podemos observar distintas cosas.\n",
    "    - 4.1 Las mujeres compran más articulos que los hombres dentro de cualquier plataforma\n",
    "    - 4.2 Las mujeres compran articulos del maximo rango en cualquier plataforma.\n",
    "    - 4.3 La plataforma que más productos de alto valor vende es Instagram."
   ]
  },
  {
   "cell_type": "markdown",
   "metadata": {},
   "source": [
    "Podemos englobar el conocimiento que tenemos sobre el data set hasta ahora:\n",
    "1. Sabemos como se distribuye el precio de los productos y donde se concentra la mayor parte de los productos\n",
    "2. Sabemos la disparidad del genero\n",
    "3. Sabemos que canal y plataformas son las que mas venden productos\n",
    "4. Donde se compran los articulos de alto valor y que genero los compra\n"
   ]
  },
  {
   "cell_type": "markdown",
   "metadata": {},
   "source": [
    "#### Es tiempo de seguir avanzando en nuestro analisis"
   ]
  },
  {
   "cell_type": "code",
   "execution_count": 22,
   "metadata": {},
   "outputs": [
    {
     "data": {
      "text/html": [
       "<div>\n",
       "<style scoped>\n",
       "    .dataframe tbody tr th:only-of-type {\n",
       "        vertical-align: middle;\n",
       "    }\n",
       "\n",
       "    .dataframe tbody tr th {\n",
       "        vertical-align: top;\n",
       "    }\n",
       "\n",
       "    .dataframe thead th {\n",
       "        text-align: right;\n",
       "    }\n",
       "</style>\n",
       "<table border=\"1\" class=\"dataframe\">\n",
       "  <thead>\n",
       "    <tr style=\"text-align: right;\">\n",
       "      <th></th>\n",
       "      <th>Sexo</th>\n",
       "      <th>Precio</th>\n",
       "    </tr>\n",
       "  </thead>\n",
       "  <tbody>\n",
       "    <tr>\n",
       "      <th>1</th>\n",
       "      <td>Mujeres</td>\n",
       "      <td>1380627</td>\n",
       "    </tr>\n",
       "    <tr>\n",
       "      <th>0</th>\n",
       "      <td>Hombre</td>\n",
       "      <td>1191223</td>\n",
       "    </tr>\n",
       "  </tbody>\n",
       "</table>\n",
       "</div>"
      ],
      "text/plain": [
       "      Sexo   Precio\n",
       "1  Mujeres  1380627\n",
       "0   Hombre  1191223"
      ]
     },
     "execution_count": 22,
     "metadata": {},
     "output_type": "execute_result"
    }
   ],
   "source": [
    "df.groupby('Sexo')['Precio'].sum().reset_index().sort_values('Precio', ascending=False)"
   ]
  },
  {
   "cell_type": "code",
   "execution_count": 23,
   "metadata": {},
   "outputs": [
    {
     "data": {
      "text/html": [
       "<div>\n",
       "<style scoped>\n",
       "    .dataframe tbody tr th:only-of-type {\n",
       "        vertical-align: middle;\n",
       "    }\n",
       "\n",
       "    .dataframe tbody tr th {\n",
       "        vertical-align: top;\n",
       "    }\n",
       "\n",
       "    .dataframe thead th {\n",
       "        text-align: right;\n",
       "    }\n",
       "</style>\n",
       "<table border=\"1\" class=\"dataframe\">\n",
       "  <thead>\n",
       "    <tr style=\"text-align: right;\">\n",
       "      <th></th>\n",
       "      <th>Sexo</th>\n",
       "      <th>Plataforma</th>\n",
       "      <th>Precio</th>\n",
       "    </tr>\n",
       "  </thead>\n",
       "  <tbody>\n",
       "    <tr>\n",
       "      <th>5</th>\n",
       "      <td>Mujeres</td>\n",
       "      <td>Instagram</td>\n",
       "      <td>741824</td>\n",
       "    </tr>\n",
       "    <tr>\n",
       "      <th>1</th>\n",
       "      <td>Hombre</td>\n",
       "      <td>Instagram</td>\n",
       "      <td>637018</td>\n",
       "    </tr>\n",
       "    <tr>\n",
       "      <th>7</th>\n",
       "      <td>Mujeres</td>\n",
       "      <td>Youtube</td>\n",
       "      <td>237670</td>\n",
       "    </tr>\n",
       "    <tr>\n",
       "      <th>4</th>\n",
       "      <td>Mujeres</td>\n",
       "      <td>Facebook</td>\n",
       "      <td>213132</td>\n",
       "    </tr>\n",
       "    <tr>\n",
       "      <th>3</th>\n",
       "      <td>Hombre</td>\n",
       "      <td>Youtube</td>\n",
       "      <td>211950</td>\n",
       "    </tr>\n",
       "    <tr>\n",
       "      <th>6</th>\n",
       "      <td>Mujeres</td>\n",
       "      <td>Website</td>\n",
       "      <td>188001</td>\n",
       "    </tr>\n",
       "    <tr>\n",
       "      <th>0</th>\n",
       "      <td>Hombre</td>\n",
       "      <td>Facebook</td>\n",
       "      <td>182941</td>\n",
       "    </tr>\n",
       "    <tr>\n",
       "      <th>2</th>\n",
       "      <td>Hombre</td>\n",
       "      <td>Website</td>\n",
       "      <td>159314</td>\n",
       "    </tr>\n",
       "  </tbody>\n",
       "</table>\n",
       "</div>"
      ],
      "text/plain": [
       "      Sexo Plataforma  Precio\n",
       "5  Mujeres  Instagram  741824\n",
       "1   Hombre  Instagram  637018\n",
       "7  Mujeres    Youtube  237670\n",
       "4  Mujeres   Facebook  213132\n",
       "3   Hombre    Youtube  211950\n",
       "6  Mujeres    Website  188001\n",
       "0   Hombre   Facebook  182941\n",
       "2   Hombre    Website  159314"
      ]
     },
     "execution_count": 23,
     "metadata": {},
     "output_type": "execute_result"
    }
   ],
   "source": [
    "df.groupby(['Sexo', 'Plataforma'])['Precio'].sum().reset_index().sort_values('Precio', ascending=False)"
   ]
  },
  {
   "cell_type": "code",
   "execution_count": 25,
   "metadata": {},
   "outputs": [
    {
     "data": {
      "text/plain": [
       "<seaborn.axisgrid.FacetGrid at 0x20f86431e20>"
      ]
     },
     "execution_count": 25,
     "metadata": {},
     "output_type": "execute_result"
    },
    {
     "data": {
      "image/png": "[encoded data removed]",
      "text/plain": [
       "<Figure size 1152x576 with 8 Axes>"
      ]
     },
     "metadata": {
      "needs_background": "light"
     },
     "output_type": "display_data"
    }
   ],
   "source": [
    "sns.displot(df, \n",
    "            x=\"Tipo_Orden\", \n",
    "            col=\"Plataforma\", \n",
    "            row=\"Sexo\", \n",
    "            binwidth=3, \n",
    "            height=4, \n",
    "            facet_kws=dict(margin_titles=True))"
   ]
  },
  {
   "cell_type": "code",
   "execution_count": null,
   "metadata": {},
   "outputs": [],
   "source": []
  }
 ],
 "metadata": {
  "kernelspec": {
   "display_name": "Python 3",
   "language": "python",
   "name": "python3"
  },
  "language_info": {
   "codemirror_mode": {
    "name": "ipython",
    "version": 3
   },
   "file_extension": ".py",
   "mimetype": "text/x-python",
   "name": "python",
   "nbconvert_exporter": "python",
   "pygments_lexer": "ipython3",
   "version": "3.8.5"
  }
 },
 "nbformat": 4,
 "nbformat_minor": 4
}
