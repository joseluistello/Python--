{
 "cells": [
  {
   "cell_type": "markdown",
   "metadata": {},
   "source": [
    "¡Holaaaaaa! \n",
    "\n",
    "En esta ocasión vamos a trabajar con una [API Financiera](https://financialmodelingprep.com/developer/docs)\n",
    "\n",
    "Pero primero, ¿que es una API?\n",
    "\n",
    "Una API es una interfaz que ofrece un servicio de comunicación. A diferencia de una UI (interfaz de usuario) que conecta a una persona con una computadora, una API conecta computadoras o software entre ellos mismos.\n",
    "\n",
    "Estan hechas de diferentes partes que actuan como herramientas o servicios. Un programador puede llamar a uno de estos servicios a traves de metodos, requests o endpoints que estan definidas en las espicificaciones de una API. \n",
    "\n",
    "Pero la API como tal no es practica de usar, debe diseñarse a través de una arquitectura llamada REST que ayuda a manejar la información. \n",
    "\n",
    "REST fue propuesta por Roy Thomas en un paper titulado \" Architectural Styles and the Design of Network-based Software Architectures\", y una idea basica detras de REST es tratar a los datos como objetos que puedes llamar, crear o destruir y a través de metodos y que son representados en formato JSON, XML o RDF. \n",
    "\n",
    "| Metodo | Descripcion |\n",
    "| ----------- | ----------- |\n",
    "| GET | Trae informacion  |\n",
    "| POST | Crea informacion | \n",
    "| PUT | Actualiza informacion |\n",
    "| DELETE | Borra informacion | \n",
    "\n",
    "[Como explicarle REST a tu esposa](http://www.looah.com/source/view/2284)\n",
    "\n",
    "\n",
    "Esto es justo lo que haremos ahora. Imaginemos a una API Rest como un ente que nos ayuda a traer datos desde una base externa. Nuestra computadora necesita comunicarse con otra y REST es la mejor forma de hacerlo.\n",
    "\n",
    "¡Es hora de empezar!\n"
   ]
  },
  {
   "cell_type": "code",
   "execution_count": null,
   "metadata": {},
   "outputs": [],
   "source": [
    "import requests \n",
    "import json\n",
    "import matplotlib.pyplot as plt\n",
    "import pandas as pd\n",
    "import numpy as np\n",
    "import seaborn as sns"
   ]
  },
  {
   "cell_type": "markdown",
   "metadata": {},
   "source": [
    "Utilizaremos el modulo **requests** para enviar pedimentos HTTP de manera sencilla. \n",
    "\n",
    "HTTP o Hypertext Transfer Protocol es un protocolo Request-Response (pedido y respuesta) cuya funcion principal es establecer una comunicación entre sistemas de la Internet que conforman el World Wide Web (WWW).\n",
    "\n",
    "Fue diseñado y creado para ser un puente entre los clientes y servidores. Este \"puente\" tiene metodos definidos que indican acciones deseadas por parte de un cliente hacia un recurso especifico. Lo que el recurso represente depende de lo que se implemento en el servidor. \n",
    "\n",
    "Basicamente REST es la manera en que HTTP se debe usar.\n"
   ]
  },
  {
   "cell_type": "markdown",
   "metadata": {},
   "source": [
    "Hay 3 reglas que se deben seguir para usar una API REST.\n",
    "      1. Definir el metodo\n",
    "      2. Definir los parametros\n",
    "      3. Hacer el request\n",
    "\n",
    "Definiendo los dos primeros obtienes una respuesta especifica del servidor. Entonces, lo que yo quiero hacer es implementar un metodo GET para OBTENER datos."
   ]
  },
  {
   "cell_type": "code",
   "execution_count": null,
   "metadata": {},
   "outputs": [],
   "source": [
    "# Estos son los parametros que necesita la API para entender lo que quieres\n",
    "api_key = '27ae1dd809036202bcf78ee64609eb76'\n",
    "company = \"NVDA\"\n",
    "years = 5\n",
    "\n",
    "# Y estes es el request que se logra hacer de manera sencilla gracias al package Requests.\n",
    "r = requests.get(f'https://financialmodelingprep.com/api/v3/income-statement/{company}?limit={years}&apikey={api_key}')\n",
    "data = r.json()\n",
    "data\n",
    "# Con esto obtenemos una respuesta con una estructura de tipo LISTA con formato JSON desde el servidor."
   ]
  },
  {
   "cell_type": "markdown",
   "metadata": {},
   "source": [
    "### Transformando y limpiando los datos\n",
    "\n",
    "¡Pandas nos permite transformar JSONs de una manera super sencilla! "
   ]
  },
  {
   "cell_type": "code",
   "execution_count": null,
   "metadata": {},
   "outputs": [],
   "source": [
    "df = pd.DataFrame(data)\n",
    "pd.DataFrame.from_records(df).head()"
   ]
  },
  {
   "cell_type": "markdown",
   "metadata": {},
   "source": [
    "Ya tenemos nuestro dataframe. Es hora de quitar algunas columnas y buscar valores nulos."
   ]
  },
  {
   "cell_type": "code",
   "execution_count": null,
   "metadata": {},
   "outputs": [],
   "source": [
    "df = df.drop(columns=['reportedCurrency', \n",
    "                      'fillingDate', \n",
    "                      'acceptedDate', \n",
    "                      'period', \n",
    "                      'link', \n",
    "                      'finalLink', \n",
    "                      'symbol', \n",
    "                      'grossProfitRatio', \n",
    "                      'incomeBeforeTaxRatio', \n",
    "                      'netIncomeRatio', \n",
    "                      'eps', \n",
    "                      'epsdiluted'])"
   ]
  },
  {
   "cell_type": "code",
   "execution_count": null,
   "metadata": {},
   "outputs": [],
   "source": [
    "df.isnull().sum()"
   ]
  },
  {
   "cell_type": "code",
   "execution_count": null,
   "metadata": {},
   "outputs": [],
   "source": [
    "df = df.sort_values(\"date\")"
   ]
  },
  {
   "cell_type": "code",
   "execution_count": null,
   "metadata": {},
   "outputs": [],
   "source": [
    "df[[\"revenue\", \"costOfRevenue\"]] = df[[\"revenue\", \"costOfRevenue\"]] / 1000000000"
   ]
  },
  {
   "cell_type": "code",
   "execution_count": null,
   "metadata": {},
   "outputs": [],
   "source": [
    "df"
   ]
  },
  {
   "cell_type": "code",
   "execution_count": null,
   "metadata": {},
   "outputs": [],
   "source": [
    "plt.bar(df['date'], df['revenue'], color='green')\n",
    "plt.title('Crecimiento en las ventas de NVDA', fontsize=14)\n",
    "plt.xlabel('Año', fontsize=10)\n",
    "plt.ylabel('Ventas totales en miles de millones de USD', fontsize=10)\n",
    "plt.xticks(df['date'],['2017', '2018', '2019', '2020', '2021'])\n",
    "plt.show()"
   ]
  },
  {
   "cell_type": "code",
   "execution_count": null,
   "metadata": {},
   "outputs": [],
   "source": []
  }
 ],
 "metadata": {
  "kernelspec": {
   "display_name": "Python 3",
   "language": "python",
   "name": "python3"
  },
  "language_info": {
   "codemirror_mode": {
    "name": "ipython",
    "version": 3
   },
   "file_extension": ".py",
   "mimetype": "text/x-python",
   "name": "python",
   "nbconvert_exporter": "python",
   "pygments_lexer": "ipython3",
   "version": "3.8.5"
  }
 },
 "nbformat": 4,
 "nbformat_minor": 4
}
