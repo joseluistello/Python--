{
 "cells": [
  {
   "cell_type": "markdown",
   "metadata": {},
   "source": [
    "¡Holaaaaaa! \n",
    "\n",
    "En esta ocasión vamos a trabajar con una [API Financiera](https://financialmodelingprep.com/developer/docs)\n",
    "\n",
    "La razón de este proyecto es mostrarles una manera rapida de analizar cuantitativamente empresas. He pasado el ultimo año desarrollando modelos financieros, soy un \"hobbyista\" de las finanzas. Siempre me intereso el mundo de las finanzas corporativas y las valuaciones como un mero pasatiempo.\n",
    "\n",
    "![png](/img/financial_api/modelo1.png)\n",
    "\n",
    "![png](/img/financial_api/modelo2.png)\n",
    "\n",
    "![png](/img/financial_api/modelo3.png)\n",
    "\n",
    "![png](/img/financial_api/modelo4.png)\n",
    "\n",
    "Se el dolor y el amor que uno puede sentir al buscar datos financieros dentro de un reporte anual K10. Por eso hice este proyecto. Hay maneras rapidas de sacar datos financieros sin necesidad de copiar y pegarlos a mano en nuestro Excel. \n",
    "\n",
    "En este proyecto aprenderas sobre:\n",
    "\n",
    "1. Que son las API REST \n",
    "2. Como extraer datos de una API\n",
    "3. Transformar los datos de JSON de una API a un dataframe de Pandas\n",
    "4. Como graficar los datos con Matplotlib y Numpy\n",
    "5. Como guardar los datos dentro de un CSV para que los en Excel o R\n",
    "\n",
    "--- "
   ]
  },
  {
   "cell_type": "markdown",
   "metadata": {},
   "source": [
    "#### ¿Que es una API?\n",
    "\n",
    "Una API es una interfaz que ofrece un servicio de comunicación. A diferencia de una UI (interfaz de usuario) que conecta a una persona con una computadora, una API conecta computadoras o software entre ellos mismos.\n",
    "\n",
    "Estan hechas de diferentes partes que actuan como herramientas o servicios. Un programador puede llamar a uno de estos servicios a traves de metodos, requests o endpoints que estan definidas en las espicificaciones de una API. \n",
    "\n",
    "Pero la API como tal no es practica de usar, debe diseñarse a través de una arquitectura llamada REST que ayuda a manejar la información. \n",
    "\n",
    "REST fue propuesta por Roy Thomas en un paper titulado \" Architectural Styles and the Design of Network-based Software Architectures\", y una idea basica detras de REST es tratar a los datos como objetos que puedes llamar, crear o destruir y a través de metodos y que son representados en formato JSON, XML o RDF. \n",
    "\n",
    "| Metodo | Descripcion |\n",
    "| ----------- | ----------- |\n",
    "| GET | Trae informacion  |\n",
    "| POST | Crea informacion | \n",
    "| PUT | Actualiza informacion |\n",
    "| DELETE | Borra informacion | \n",
    "\n",
    "[Como explicarle REST a tu esposa](http://www.looah.com/source/view/2284)\n",
    "\n",
    "\n",
    "Esto es justo lo que haremos ahora. Imaginemos a una API Rest como un ente que nos ayuda a traer datos desde una base externa. Nuestra computadora necesita comunicarse con otra y REST es la mejor forma de hacerlo.\n",
    "\n",
    "¡Es hora de empezar!\n"
   ]
  },
  {
   "cell_type": "markdown",
   "metadata": {},
   "source": [
    "Utilizaremos el modulo **requests** para enviar pedimentos HTTP de manera sencilla. \n",
    "\n",
    "HTTP o Hypertext Transfer Protocol es un protocolo Request-Response (pedido y respuesta) cuya funcion principal es establecer una comunicación entre sistemas de la Internet que conforman el World Wide Web (WWW).\n",
    "\n",
    "Fue diseñado y creado para ser un puente entre los clientes y servidores. Este \"puente\" tiene metodos definidos que indican acciones deseadas por parte de un cliente hacia un recurso especifico. Lo que el recurso represente depende de lo que se implemento en el servidor. \n",
    "\n",
    "Basicamente REST es la manera en que HTTP se debe usar.\n"
   ]
  },
  {
   "cell_type": "markdown",
   "metadata": {},
   "source": [
    "#### Extrayendo datos de una API\n",
    "\n",
    "Hay 3 reglas que se deben seguir para usar una API REST.\n",
    "1. Definir el metodo\n",
    "2. Definir los parametros\n",
    "3. Hacer el request\n",
    "\n",
    "Nuestro metodo sera de tipo GET que es lo mismo a pedir informacion de la API.\n",
    "Nuestros parametros seran:\n",
    "1. La llave de la API (la puedes conseguir creando una cuenta en el portal de la API) \n",
    "2. El ticket en la bolsa de la empresa de nuestro interes\n",
    "3. Los años\n",
    "\n",
    "En esta ocasion haremos un request de datos financieros del Income Statement de NVDA.\n",
    "Si lo que quieres es su Balance Sheet o Cash Flow solo cambia esto la parte de income-statement en la URL por balance-sheet o cash-flow"
   ]
  },
  {
   "cell_type": "code",
   "execution_count": null,
   "metadata": {},
   "outputs": [],
   "source": [
    "import requests \n",
    "import json"
   ]
  },
  {
   "cell_type": "code",
   "execution_count": 3,
   "metadata": {},
   "outputs": [
    {
     "name": "stdout",
     "output_type": "stream",
     "text": [
      "[{'date': '2021-01-31', 'symbol': 'NVDA', 'reportedCurrency': 'USD', 'fillingDate': '2021-02-26', 'acceptedDate': '2021-02-26 17:03:14', 'period': 'FY', 'revenue': 16675000000, 'costOfRevenue': 6279000000, 'grossProfit': 10396000000, 'grossProfitRatio': 0.623448275862069, 'researchAndDevelopmentExpenses': 3924000000, 'generalAndAdministrativeExpenses': 0.0, 'sellingAndMarketingExpenses': 0.0, 'sellingGeneralAndAdministrativeExpenses': 1940000000, 'otherExpenses': 0.0, 'operatingExpenses': 5864000000, 'costAndExpenses': 12143000000, 'interestExpense': 184000000, 'depreciationAndAmortization': 1098000000, 'ebitda': 5691000000, 'ebitdaratio': 0.34128935532233884, 'operatingIncome': 4532000000, 'operatingIncomeRatio': 0.271784107946027, 'totalOtherIncomeExpensesNet': 123000000, 'incomeBeforeTax': 4409000000, 'incomeBeforeTaxRatio': 0.26440779610194903, 'incomeTaxExpense': 77000000, 'netIncome': 4332000000, 'netIncomeRatio': 0.25979010494752625, 'eps': 1.7245222929936306, 'epsdiluted': 1.7245222929936306, 'weightedAverageShsOut': 2468000000, 'weightedAverageShsOutDil': 2512000000, 'link': 'https://www.sec.gov/Archives/edgar/data/1045810/000104581021000010/0001045810-21-000010-index.htm', 'finalLink': 'https://www.sec.gov/Archives/edgar/data/1045810/000104581021000010/nvda-20210131.htm'}, {'date': '2020-01-26', 'symbol': 'NVDA', 'reportedCurrency': 'USD', 'fillingDate': '2020-02-20 00:00:00', 'acceptedDate': '2020-02-20 16:38:18', 'period': 'FY', 'revenue': 10918000000, 'costOfRevenue': 4150000000, 'grossProfit': 6768000000, 'grossProfitRatio': 0.619893753434695, 'researchAndDevelopmentExpenses': 2829000000, 'generalAndAdministrativeExpenses': 1093000000, 'sellingAndMarketingExpenses': 0.0, 'sellingGeneralAndAdministrativeExpenses': 1093000000, 'otherExpenses': 0.0, 'operatingExpenses': 3922000000, 'costAndExpenses': 8072000000, 'interestExpense': 52000000, 'depreciationAndAmortization': 381000000, 'ebitda': 3403000000, 'ebitdaratio': 0.3116871221835501, 'operatingIncome': 2846000000, 'operatingIncomeRatio': 0.2606704524638212, 'totalOtherIncomeExpensesNet': -124000000, 'incomeBeforeTax': 2970000000, 'incomeBeforeTaxRatio': 0.27202784392745927, 'incomeTaxExpense': 174000000, 'netIncome': 2796000000, 'netIncomeRatio': 0.2560908591317091, 'eps': 1.1310679611650485, 'epsdiluted': 1.1310679611650485, 'weightedAverageShsOut': 2472000000, 'weightedAverageShsOutDil': 2472000000, 'link': 'https://www.sec.gov/Archives/edgar/data/1045810/000104581020000010/0001045810-20-000010-index.html', 'finalLink': 'https://www.sec.gov/Archives/edgar/data/1045810/000104581020000010/nvda-2020x10k.htm'}, {'date': '2019-01-27', 'symbol': 'NVDA', 'reportedCurrency': 'USD', 'fillingDate': '2019-02-21 00:00:00', 'acceptedDate': '2019-02-21 16:37:18', 'period': 'FY', 'revenue': 11716000000, 'costOfRevenue': 4545000000, 'grossProfit': 7171000000, 'grossProfitRatio': 0.6120689655172413, 'researchAndDevelopmentExpenses': 2376000000, 'generalAndAdministrativeExpenses': 991000000, 'sellingAndMarketingExpenses': 0.0, 'sellingGeneralAndAdministrativeExpenses': 991000000, 'otherExpenses': 0.0, 'operatingExpenses': 3367000000, 'costAndExpenses': 7912000000, 'interestExpense': 58000000, 'depreciationAndAmortization': 262000000, 'ebitda': 4584000000, 'ebitdaratio': 0.39125981563673606, 'operatingIncome': 3804000000, 'operatingIncomeRatio': 0.3246841925571868, 'totalOtherIncomeExpensesNet': -92000000, 'incomeBeforeTax': 3896000000, 'incomeBeforeTaxRatio': 0.33253670194605667, 'incomeTaxExpense': 123000000, 'netIncome': 4141000000, 'netIncomeRatio': 0.35344827586206895, 'eps': 1.6564, 'epsdiluted': 1.6564, 'weightedAverageShsOut': 2500000000, 'weightedAverageShsOutDil': 2500000000, 'link': 'https://www.sec.gov/Archives/edgar/data/1045810/000104581019000023/0001045810-19-000023-index.html', 'finalLink': 'https://www.sec.gov/Archives/edgar/data/1045810/000104581019000023/nvda-2019x10k.htm'}, {'date': '2018-01-28', 'symbol': 'NVDA', 'reportedCurrency': 'USD', 'fillingDate': '2018-02-28 00:00:00', 'acceptedDate': '2018-02-28 16:31:19', 'period': 'FY', 'revenue': 9714000000, 'costOfRevenue': 3892000000, 'grossProfit': 5822000000, 'grossProfitRatio': 0.5993411570928556, 'researchAndDevelopmentExpenses': 1797000000, 'generalAndAdministrativeExpenses': 815000000, 'sellingAndMarketingExpenses': 0.0, 'sellingGeneralAndAdministrativeExpenses': 815000000, 'otherExpenses': 0.0, 'operatingExpenses': 2612000000, 'costAndExpenses': 6504000000, 'interestExpense': 61000000, 'depreciationAndAmortization': 199000000, 'ebitda': 3589000000, 'ebitdaratio': 0.3694667490220301, 'operatingIncome': 3210000000, 'operatingIncomeRatio': 0.3304508956145769, 'totalOtherIncomeExpensesNet': 14000000, 'incomeBeforeTax': 3196000000, 'incomeBeforeTaxRatio': 0.3290096767551987, 'incomeTaxExpense': 282000000, 'netIncome': 3047000000, 'netIncomeRatio': 0.3136709903232448, 'eps': 1.2053006329113924, 'epsdiluted': 1.2053006329113924, 'weightedAverageShsOut': 2528000000, 'weightedAverageShsOutDil': 2528000000, 'link': 'https://www.sec.gov/Archives/edgar/data/1045810/000104581018000010/0001045810-18-000010-index.html', 'finalLink': 'https://www.sec.gov/Archives/edgar/data/1045810/000104581018000010/nvda-2018x10k.htm'}, {'date': '2017-01-29', 'symbol': 'NVDA', 'reportedCurrency': 'USD', 'fillingDate': '2017-03-01 00:00:00', 'acceptedDate': '2017-03-01 17:30:49', 'period': 'FY', 'revenue': 6910000000, 'costOfRevenue': 2847000000, 'grossProfit': 4063000000, 'grossProfitRatio': 0.5879884225759768, 'researchAndDevelopmentExpenses': 1463000000, 'generalAndAdministrativeExpenses': 663000000, 'sellingAndMarketingExpenses': 0.0, 'sellingGeneralAndAdministrativeExpenses': 666000000, 'otherExpenses': 0.0, 'operatingExpenses': 2129000000, 'costAndExpenses': 4976000000, 'interestExpense': 58000000, 'depreciationAndAmortization': 187000000, 'ebitda': 2150000000, 'ebitdaratio': 0.3111432706222865, 'operatingIncome': 1934000000, 'operatingIncomeRatio': 0.27988422575976846, 'totalOtherIncomeExpensesNet': 29000000, 'incomeBeforeTax': 1905000000, 'incomeBeforeTaxRatio': 0.27568740955137483, 'incomeTaxExpense': 239000000, 'netIncome': 1666000000, 'netIncomeRatio': 0.2410998552821997, 'eps': 0.6417565485362096, 'epsdiluted': 0.6417565485362096, 'weightedAverageShsOut': 2596000000, 'weightedAverageShsOutDil': 2596000000, 'link': 'https://www.sec.gov/Archives/edgar/data/1045810/000104581017000027/0001045810-17-000027-index.html', 'finalLink': 'https://www.sec.gov/Archives/edgar/data/1045810/000104581017000027/nvda-2017x10k.htm'}]\n"
     ]
    }
   ],
   "source": [
    "# DEFINIENDO PARAMETROS #\n",
    "api_key = '27ae1dd809036202bcf78ee64609eb76'\n",
    "company = \"NVDA\"\n",
    "years = 5\n",
    "\n",
    "# REQUEST GET  con el package Requests.\n",
    "r = requests.get(f'https://financialmodelingprep.com/api/v3/income-statement/{company}?limit={years}&apikey={api_key}')\n",
    "data = r.json()\n",
    "print(data)\n",
    "# CON ESTO CREAMOS UN OBJETO de datos tipo lista."
   ]
  },
  {
   "cell_type": "markdown",
   "metadata": {},
   "source": [
    "#### Transformando los datos JSON a un DF\n",
    "\n",
    "La razón por la cual queremos transformar estos datos es por el proposito de manupilación. Trabajar con un JSON no es recomendable pues es dificil analizarlo cuando esta en su estado natural, solo son buenos para pasar información entre servidores. Pandas nos permite transformarlos de una manera super sencilla, solo necesitamos el siguiente pedazo de codigo."
   ]
  },
  {
   "cell_type": "code",
   "execution_count": null,
   "metadata": {},
   "outputs": [],
   "source": [
    "import pandas as pd"
   ]
  },
  {
   "cell_type": "code",
   "execution_count": 30,
   "metadata": {},
   "outputs": [
    {
     "name": "stdout",
     "output_type": "stream",
     "text": [
      "<class 'pandas.core.frame.DataFrame'>\n",
      "RangeIndex: 5 entries, 0 to 4\n",
      "Data columns (total 35 columns):\n",
      " #   Column                                   Non-Null Count  Dtype  \n",
      "---  ------                                   --------------  -----  \n",
      " 0   date                                     5 non-null      object \n",
      " 1   symbol                                   5 non-null      object \n",
      " 2   reportedCurrency                         5 non-null      object \n",
      " 3   fillingDate                              5 non-null      object \n",
      " 4   acceptedDate                             5 non-null      object \n",
      " 5   period                                   5 non-null      object \n",
      " 6   revenue                                  5 non-null      int64  \n",
      " 7   costOfRevenue                            5 non-null      int64  \n",
      " 8   grossProfit                              5 non-null      int64  \n",
      " 9   grossProfitRatio                         5 non-null      float64\n",
      " 10  researchAndDevelopmentExpenses           5 non-null      int64  \n",
      " 11  generalAndAdministrativeExpenses         5 non-null      float64\n",
      " 12  sellingAndMarketingExpenses              5 non-null      float64\n",
      " 13  sellingGeneralAndAdministrativeExpenses  5 non-null      int64  \n",
      " 14  otherExpenses                            5 non-null      float64\n",
      " 15  operatingExpenses                        5 non-null      int64  \n",
      " 16  costAndExpenses                          5 non-null      int64  \n",
      " 17  interestExpense                          5 non-null      int64  \n",
      " 18  depreciationAndAmortization              5 non-null      int64  \n",
      " 19  ebitda                                   5 non-null      int64  \n",
      " 20  ebitdaratio                              5 non-null      float64\n",
      " 21  operatingIncome                          5 non-null      int64  \n",
      " 22  operatingIncomeRatio                     5 non-null      float64\n",
      " 23  totalOtherIncomeExpensesNet              5 non-null      int64  \n",
      " 24  incomeBeforeTax                          5 non-null      int64  \n",
      " 25  incomeBeforeTaxRatio                     5 non-null      float64\n",
      " 26  incomeTaxExpense                         5 non-null      int64  \n",
      " 27  netIncome                                5 non-null      int64  \n",
      " 28  netIncomeRatio                           5 non-null      float64\n",
      " 29  eps                                      5 non-null      float64\n",
      " 30  epsdiluted                               5 non-null      float64\n",
      " 31  weightedAverageShsOut                    5 non-null      int64  \n",
      " 32  weightedAverageShsOutDil                 5 non-null      int64  \n",
      " 33  link                                     5 non-null      object \n",
      " 34  finalLink                                5 non-null      object \n",
      "dtypes: float64(10), int64(17), object(8)\n",
      "memory usage: 1.5+ KB\n"
     ]
    }
   ],
   "source": [
    "df = pd.DataFrame(data)\n",
    "df.info()"
   ]
  },
  {
   "cell_type": "markdown",
   "metadata": {},
   "source": [
    "Listo. Los datos vienen sin valores nulos y estan en buen estado así que podemos manejarlos a partir de ahora en adelante. \n",
    "Lo unico que hare es quitar quitar algunas columnas como los ratios pero no es necesario que tu lo hagas si no es necesario. Lo que si es necesario es que apliques un SORT. Esto te permite cambiar el orden del frame a partir de sus fechas, esto con el objetivo de graficar. "
   ]
  },
  {
   "cell_type": "code",
   "execution_count": 31,
   "metadata": {},
   "outputs": [],
   "source": [
    "df = df.drop(columns=['reportedCurrency', \n",
    "                      'fillingDate', \n",
    "                      'acceptedDate', \n",
    "                      'period', \n",
    "                      'link', \n",
    "                      'finalLink', \n",
    "                      'symbol', \n",
    "                      'grossProfitRatio', \n",
    "                      'incomeBeforeTaxRatio', \n",
    "                      'netIncomeRatio', \n",
    "                      'eps', \n",
    "                      'epsdiluted'])"
   ]
  },
  {
   "cell_type": "code",
   "execution_count": 14,
   "metadata": {},
   "outputs": [],
   "source": [
    "df = df.sort_values(\"date\")"
   ]
  },
  {
   "cell_type": "markdown",
   "metadata": {},
   "source": [
    "#### Graficando los datos\n",
    "\n",
    "Bueno, es hora de hacer algnos plots para que veas lo facil que es graficar los datos.\n",
    "Primero voy a cargar las librerias, despues aplicare una configuración para el tamaño de los plots y por ultimo dividire las columnas de mi interes para que el axis de Y no arroje visualizaciones raras."
   ]
  },
  {
   "cell_type": "code",
   "execution_count": 37,
   "metadata": {},
   "outputs": [],
   "source": [
    "import matplotlib.pyplot as plt\n",
    "import numpy as np\n",
    "import seaborn as sns"
   ]
  },
  {
   "cell_type": "code",
   "execution_count": 35,
   "metadata": {},
   "outputs": [],
   "source": [
    "### Este codigo establece la anchura y la altura de los plots (bastante util) \n",
    "%matplotlib inline\n",
    "plt.rcParams['figure.figsize'] = (12, 10)"
   ]
  },
  {
   "cell_type": "code",
   "execution_count": 15,
   "metadata": {},
   "outputs": [],
   "source": [
    "## Este codigo te permite seleccionar las columnas de tu interes con el proposito\n",
    "## de dividirlas y mejorar la visualización del plot\n",
    "df[[\"revenue\", \"costOfRevenue\"]] = df[[\"revenue\", \"costOfRevenue\"]] / 1000000000"
   ]
  },
  {
   "cell_type": "code",
   "execution_count": 38,
   "metadata": {},
   "outputs": [
    {
     "data": {
      "image/png": "[encoded data removed]",
      "text/plain": [
       "<Figure size 864x720 with 1 Axes>"
      ]
     },
     "metadata": {
      "needs_background": "light"
     },
     "output_type": "display_data"
    }
   ],
   "source": [
    "plt.bar(df['date'], df['revenue'])\n",
    "plt.title('Crecimiento en las ventas de NVDA', fontsize=14)\n",
    "plt.xlabel('Año', fontsize=14)\n",
    "plt.ylabel('Ventas totales en miles de millones de USD', fontsize=14)\n",
    "plt.xticks(df['date'],['2017', '2018', '2019', '2020', '2021'])\n",
    "plt.show()"
   ]
  },
  {
   "cell_type": "code",
   "execution_count": 18,
   "metadata": {},
   "outputs": [
    {
     "data": {
      "image/png": "[encoded data removed]",
      "text/plain": [
       "<Figure size 864x720 with 1 Axes>"
      ]
     },
     "metadata": {
      "needs_background": "light"
     },
     "output_type": "display_data"
    }
   ],
   "source": [
    "### Localizando los datos\n",
    "\n",
    "descripcion = ['2017', '2018', '2019', '2020', '2021']\n",
    "revenue = df[\"revenue\"]\n",
    "costOfRevenue = df[\"costOfRevenue\"]\n",
    "\n",
    "### Recorriendo la descripcion\n",
    "\n",
    "x = np.arange(len(descripcion)) \n",
    "width = 0.35  \n",
    "\n",
    "### Configurando los plots\n",
    "\n",
    "fig, ax = plt.subplots()\n",
    "plot1 = ax.bar(x - width/2, revenue, width, label='Ventas')\n",
    "plot2 = ax.bar(x + width/2, costOfRevenue, width, label='Costo de ventas')\n",
    "\n",
    "### Añadiendo la descripcion\n",
    "ax.set_ylabel('Miles de millones de USD')\n",
    "ax.set_title('Revenue vs CostOfRevenue')\n",
    "ax.set_xticks(x)\n",
    "ax.set_xticklabels(descripcion)\n",
    "ax.legend()\n",
    "\n",
    "\n",
    "plt.show()"
   ]
  },
  {
   "cell_type": "markdown",
   "metadata": {},
   "source": [
    "#### Creando un csv\n",
    "\n",
    "Si lo anterior te parecio dificil, no te preocupes. Siempre existen soluciones y de hecho me parece que utilizar Python para este tipo de cosas (visualizar frames tan pequeños) es innecesario. Para eso tenemos Excel.\n",
    "\n",
    "Con el siguiente pedazo de codigo vas a poder crear un csv con los datos que sacaste del API. "
   ]
  },
  {
   "cell_type": "code",
   "execution_count": 39,
   "metadata": {},
   "outputs": [],
   "source": [
    "df.to_csv('NVDA.csv', index = False)"
   ]
  },
  {
   "cell_type": "markdown",
   "metadata": {},
   "source": [
    "Bueno, esto es todo! Espero que este proyecto te ayude con tus objetivos profesionales y no profesionales. Si necesitas ayuda siempre puedes mandarme un mensaje a joluistello@gmail.com. \n",
    "\n",
    "Un abrazo!"
   ]
  },
  {
   "cell_type": "code",
   "execution_count": null,
   "metadata": {},
   "outputs": [],
   "source": []
  }
 ],
 "metadata": {
  "kernelspec": {
   "display_name": "Python 3",
   "language": "python",
   "name": "python3"
  },
  "language_info": {
   "codemirror_mode": {
    "name": "ipython",
    "version": 3
   },
   "file_extension": ".py",
   "mimetype": "text/x-python",
   "name": "python",
   "nbconvert_exporter": "python",
   "pygments_lexer": "ipython3",
   "version": "3.8.5"
  }
 },
 "nbformat": 4,
 "nbformat_minor": 4
}
