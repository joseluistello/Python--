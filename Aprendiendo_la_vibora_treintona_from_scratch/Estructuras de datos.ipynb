{
 "cells": [
  {
   "cell_type": "markdown",
   "metadata": {},
   "source": [
    "Una estructura de datos guarda y organiza datos de diferentes maneras con varios propositos: \n",
    "* Trabajar con eficiencia\n",
    "* Poder acceder a ellas de diferente manera\n",
    "* Nos ayudan con diferentes problemas \n",
    "\n",
    "Estas estructuras definen la relación entre nuestros datos y las operaciones que usamos para con ellas. \n",
    "\n",
    "Se clasifican en dos grandes grupos con divisiones dentro de estos grupos:\n",
    "\n",
    "### **Estrucutras primitivas**\n",
    "\n",
    "     * Integers - Son enteros representados por numeros como 1, -2, 3, 40, 2, etc\n",
    "     * Floats - Son numeros con puntos decimales: 1.5, 230.40, 201.4, -213.4, -21333.4\n",
    "     * Strings - Son cadenas de texto [hola, soy, tu, padre]\n",
    "     * Boolean - Son representados como opciones binarias, TRUE o FALSE\n",
    "    \n",
    "    \n",
    "### **Estructuras no primitivas**\n",
    " * **Estructuras de datos lineales**\n",
    " \n",
    "     * Array_list -  dsdaassasa\n",
    "     * Stacks - sdssdadsa\n",
    "     * Queues -\n",
    "     * Linked List\n",
    "    \n",
    " * **Estructuras de datos no lineales** \n",
    "     * Trees\n",
    "     * Heaps\n",
    "     * Hash Tables\n",
    "     * Graphs\n",
    "\n",
    "Python también cuenta con estructuras \"propias\" de su lenguaje\n",
    "\n",
    "     * Tuples\n",
    "     * Dictionarys\n",
    "     * Sets\n",
    "     * Collections \n",
    "  \n"
   ]
  },
  {
   "cell_type": "markdown",
   "metadata": {},
   "source": [
    "### 1. Utilizando operadores con Python!\n",
    "\n",
    "Para este ejemplo utilizaremos estructuras primitivas y operadores simples como:\n",
    "* Suma +\n",
    "* Resta -\n",
    "* Multiplicacion *\n",
    "* Division "
   ]
  },
  {
   "cell_type": "code",
   "execution_count": 1,
   "metadata": {},
   "outputs": [
    {
     "data": {
      "text/plain": [
       "10"
      ]
     },
     "execution_count": 1,
     "metadata": {},
     "output_type": "execute_result"
    }
   ],
   "source": [
    "## Una suma\n",
    "5 + 5 "
   ]
  },
  {
   "cell_type": "code",
   "execution_count": 2,
   "metadata": {},
   "outputs": [
    {
     "data": {
      "text/plain": [
       "1.1428571428571428"
      ]
     },
     "execution_count": 2,
     "metadata": {},
     "output_type": "execute_result"
    }
   ],
   "source": [
    "## Una division con un producto con decimales\n",
    "8 / 7"
   ]
  },
  {
   "cell_type": "code",
   "execution_count": 3,
   "metadata": {},
   "outputs": [
    {
     "data": {
      "text/plain": [
       "1"
      ]
     },
     "execution_count": 3,
     "metadata": {},
     "output_type": "execute_result"
    }
   ],
   "source": [
    "## Una division sin un producto decimal\n",
    "8 // 7"
   ]
  },
  {
   "cell_type": "code",
   "execution_count": 10,
   "metadata": {},
   "outputs": [
    {
     "data": {
      "text/plain": [
       "-5550"
      ]
     },
     "execution_count": 10,
     "metadata": {},
     "output_type": "execute_result"
    }
   ],
   "source": [
    "## Una resta\n",
    "5 - 5555"
   ]
  },
  {
   "cell_type": "code",
   "execution_count": 11,
   "metadata": {},
   "outputs": [
    {
     "data": {
      "text/plain": [
       "256"
      ]
     },
     "execution_count": 11,
     "metadata": {},
     "output_type": "execute_result"
    }
   ],
   "source": [
    "## Una elevacion a cualquier potencia \n",
    "2 ** 8"
   ]
  },
  {
   "cell_type": "code",
   "execution_count": 12,
   "metadata": {},
   "outputs": [
    {
     "data": {
      "text/plain": [
       "256"
      ]
     },
     "execution_count": 12,
     "metadata": {},
     "output_type": "execute_result"
    }
   ],
   "source": [
    "## La elevancion desestructurada \n",
    "2 * 2 * 2 * 2 * 2 * 2 * 2 * 2"
   ]
  },
  {
   "cell_type": "code",
   "execution_count": 9,
   "metadata": {},
   "outputs": [
    {
     "data": {
      "text/plain": [
       "12"
      ]
     },
     "execution_count": 9,
     "metadata": {},
     "output_type": "execute_result"
    }
   ],
   "source": [
    "## Una operacion \n",
    "5 + (7 * 5) // 5"
   ]
  },
  {
   "cell_type": "code",
   "execution_count": 8,
   "metadata": {},
   "outputs": [
    {
     "data": {
      "text/plain": [
       "12"
      ]
     },
     "execution_count": 8,
     "metadata": {},
     "output_type": "execute_result"
    }
   ],
   "source": [
    "## La misma operacion de arriba pero desestructurada\n",
    "7 * 5\n",
    "35 / 5\n",
    "7 + 5"
   ]
  },
  {
   "cell_type": "code",
   "execution_count": 14,
   "metadata": {},
   "outputs": [
    {
     "data": {
      "text/plain": [
       "12.5"
      ]
     },
     "execution_count": 14,
     "metadata": {},
     "output_type": "execute_result"
    }
   ],
   "source": [
    "## Algo mas complejo\n",
    "impuesto = 5 / 2\n",
    "coca_cola = 5 \n",
    "\n",
    "coca_cola * impuesto\n"
   ]
  },
  {
   "cell_type": "code",
   "execution_count": null,
   "metadata": {},
   "outputs": [],
   "source": [
    "## Concatenar (juntar) strings! \n",
    "'Hola,' + ' soy Luis' + ' y tengo 25 años'"
   ]
  },
  {
   "cell_type": "markdown",
   "metadata": {},
   "source": [
    "#### 2. - Variables \n",
    "\n"
   ]
  }
 ],
 "metadata": {
  "kernelspec": {
   "display_name": "Python 3",
   "language": "python",
   "name": "python3"
  },
  "language_info": {
   "codemirror_mode": {
    "name": "ipython",
    "version": 3
   },
   "file_extension": ".py",
   "mimetype": "text/x-python",
   "name": "python",
   "nbconvert_exporter": "python",
   "pygments_lexer": "ipython3",
   "version": "3.8.5"
  }
 },
 "nbformat": 4,
 "nbformat_minor": 4
}
