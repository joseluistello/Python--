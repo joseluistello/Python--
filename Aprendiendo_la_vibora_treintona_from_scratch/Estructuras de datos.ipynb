{
 "cells": [
  {
   "cell_type": "markdown",
   "metadata": {},
   "source": [
    "Una estructura de datos guarda y organiza datos de diferentes maneras con varios propositos: \n",
    "* Trabajar con eficiencia\n",
    "* Poder acceder a ellas de diferente manera\n",
    "* Nos ayudan con diferentes problemas \n",
    "\n",
    "Estas estructuras definen la relación entre nuestros datos y las operaciones que usamos para con ellas. \n",
    "\n",
    "Se clasifican en dos grandes grupos con divisiones dentro de estos grupos:\n",
    "\n",
    "### **Estrucutras primitivas**\n",
    "\n",
    "     * Integers - Son enteros representados por numeros como 1, -2, 3, 40, 2, etc\n",
    "     * Floats - Son numeros con puntos decimales: 1.5, 230.40, 201.4, -213.4, -21333.4\n",
    "     * Strings - Son cadenas de texto [hola, soy, tu, padre]\n",
    "     * Boolean - Son representados como opciones binarias, TRUE o FALSE\n",
    "    \n",
    "    \n",
    "### **Estructuras no primitivas**\n",
    " * **Estructuras de datos lineales**\n",
    " \n",
    "     * Array_list -  dsdaassasa\n",
    "     * Stacks - sdssdadsa\n",
    "     * Queues -\n",
    "     * Linked List\n",
    "    \n",
    " * **Estructuras de datos no lineales** \n",
    "     * Trees\n",
    "     * Heaps\n",
    "     * Hash Tables\n",
    "     * Graphs\n",
    "\n",
    "Python también cuenta con estructuras \"propias\" de su lenguaje\n",
    "\n",
    "     * Tuples\n",
    "     * Dictionarys\n",
    "     * Sets\n",
    "     * Collections \n",
    "  \n"
   ]
  },
  {
   "cell_type": "code",
   "execution_count": null,
   "metadata": {},
   "outputs": [],
   "source": []
  }
 ],
 "metadata": {
  "kernelspec": {
   "display_name": "Python 3",
   "language": "python",
   "name": "python3"
  },
  "language_info": {
   "codemirror_mode": {
    "name": "ipython",
    "version": 3
   },
   "file_extension": ".py",
   "mimetype": "text/x-python",
   "name": "python",
   "nbconvert_exporter": "python",
   "pygments_lexer": "ipython3",
   "version": "3.8.5"
  }
 },
 "nbformat": 4,
 "nbformat_minor": 4
}
