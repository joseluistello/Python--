{
 "cells": [
  {
   "cell_type": "code",
   "execution_count": 53,
   "metadata": {},
   "outputs": [],
   "source": [
    "import requests \n",
    "import matplotlib.pyplot as plt\n",
    "import pandas as pd\n",
    "import json\n",
    "from pandas import json_normalize \n",
    "from pandas.io.json import json_normalize"
   ]
  },
  {
   "cell_type": "code",
   "execution_count": 54,
   "metadata": {},
   "outputs": [],
   "source": [
    "company = \"NVDA\"\n",
    "years = 5"
   ]
  },
  {
   "cell_type": "code",
   "execution_count": 55,
   "metadata": {},
   "outputs": [],
   "source": [
    "api_key = '27ae1dd809036202bcf78ee64609eb76'"
   ]
  },
  {
   "cell_type": "code",
   "execution_count": 56,
   "metadata": {},
   "outputs": [
    {
     "data": {
      "text/plain": [
       "[{'date': '2021-01-31',\n",
       "  'symbol': 'NVDA',\n",
       "  'reportedCurrency': 'USD',\n",
       "  'fillingDate': '2021-02-26',\n",
       "  'acceptedDate': '2021-02-26 17:03:14',\n",
       "  'period': 'FY',\n",
       "  'revenue': 16675000000,\n",
       "  'costOfRevenue': 6279000000,\n",
       "  'grossProfit': 10396000000,\n",
       "  'grossProfitRatio': 0.623448275862069,\n",
       "  'researchAndDevelopmentExpenses': 3924000000,\n",
       "  'generalAndAdministrativeExpenses': 0.0,\n",
       "  'sellingAndMarketingExpenses': 0.0,\n",
       "  'sellingGeneralAndAdministrativeExpenses': 1940000000,\n",
       "  'otherExpenses': 4000000.0,\n",
       "  'operatingExpenses': 5864000000,\n",
       "  'costAndExpenses': 12143000000,\n",
       "  'interestExpense': 184000000,\n",
       "  'depreciationAndAmortization': 1098000000,\n",
       "  'ebitda': 5630000000,\n",
       "  'ebitdaratio': 0.3376311844077961,\n",
       "  'operatingIncome': 4532000000,\n",
       "  'operatingIncomeRatio': 0.271784107946027,\n",
       "  'totalOtherIncomeExpensesNet': 4000000.0,\n",
       "  'incomeBeforeTax': 4409000000,\n",
       "  'incomeBeforeTaxRatio': 0.26440779610194903,\n",
       "  'incomeTaxExpense': 77000000,\n",
       "  'netIncome': 4332000000,\n",
       "  'netIncomeRatio': 0.25979010494752625,\n",
       "  'eps': 1.7245222929936306,\n",
       "  'epsdiluted': 1.7245222929936306,\n",
       "  'weightedAverageShsOut': 2468000000,\n",
       "  'weightedAverageShsOutDil': 2512000000,\n",
       "  'link': 'https://www.sec.gov/Archives/edgar/data/1045810/000104581021000010/0001045810-21-000010-index.htm',\n",
       "  'finalLink': 'https://www.sec.gov/Archives/edgar/data/1045810/000104581021000010/nvda-20210131.htm'},\n",
       " {'date': '2020-01-26',\n",
       "  'symbol': 'NVDA',\n",
       "  'reportedCurrency': 'USD',\n",
       "  'fillingDate': '2020-02-20 00:00:00',\n",
       "  'acceptedDate': '2020-02-20 16:38:18',\n",
       "  'period': 'FY',\n",
       "  'revenue': 10918000000,\n",
       "  'costOfRevenue': 4150000000,\n",
       "  'grossProfit': 6768000000,\n",
       "  'grossProfitRatio': 0.619893753434695,\n",
       "  'researchAndDevelopmentExpenses': 2829000000,\n",
       "  'generalAndAdministrativeExpenses': 1093000000,\n",
       "  'sellingAndMarketingExpenses': 0.0,\n",
       "  'sellingGeneralAndAdministrativeExpenses': 1093000000,\n",
       "  'otherExpenses': 124000000,\n",
       "  'operatingExpenses': 3922000000,\n",
       "  'costAndExpenses': 8072000000,\n",
       "  'interestExpense': 52000000,\n",
       "  'depreciationAndAmortization': 381000000,\n",
       "  'ebitda': 3227000000,\n",
       "  'ebitdaratio': 0.29556695365451546,\n",
       "  'operatingIncome': 2846000000,\n",
       "  'operatingIncomeRatio': 0.2606704524638212,\n",
       "  'totalOtherIncomeExpensesNet': -2000000.0,\n",
       "  'incomeBeforeTax': 2970000000,\n",
       "  'incomeBeforeTaxRatio': 0.27202784392745927,\n",
       "  'incomeTaxExpense': 174000000,\n",
       "  'netIncome': 2796000000,\n",
       "  'netIncomeRatio': 0.2560908591317091,\n",
       "  'eps': 1.1310679611650485,\n",
       "  'epsdiluted': 1.1310679611650485,\n",
       "  'weightedAverageShsOut': 2472000000,\n",
       "  'weightedAverageShsOutDil': 2472000000,\n",
       "  'link': 'https://www.sec.gov/Archives/edgar/data/1045810/000104581020000010/0001045810-20-000010-index.html',\n",
       "  'finalLink': 'https://www.sec.gov/Archives/edgar/data/1045810/000104581020000010/nvda-2020x10k.htm'},\n",
       " {'date': '2019-01-27',\n",
       "  'symbol': 'NVDA',\n",
       "  'reportedCurrency': 'USD',\n",
       "  'fillingDate': '2019-02-21 00:00:00',\n",
       "  'acceptedDate': '2019-02-21 16:37:18',\n",
       "  'period': 'FY',\n",
       "  'revenue': 11716000000,\n",
       "  'costOfRevenue': 4545000000,\n",
       "  'grossProfit': 7171000000,\n",
       "  'grossProfitRatio': 0.6120689655172413,\n",
       "  'researchAndDevelopmentExpenses': 2376000000,\n",
       "  'generalAndAdministrativeExpenses': 991000000,\n",
       "  'sellingAndMarketingExpenses': 0.0,\n",
       "  'sellingGeneralAndAdministrativeExpenses': 991000000,\n",
       "  'otherExpenses': 92000000,\n",
       "  'operatingExpenses': 3367000000,\n",
       "  'costAndExpenses': 7912000000,\n",
       "  'interestExpense': 58000000,\n",
       "  'depreciationAndAmortization': 262000000,\n",
       "  'ebitda': 4066000000,\n",
       "  'ebitdaratio': 0.34704677364288156,\n",
       "  'operatingIncome': 3804000000,\n",
       "  'operatingIncomeRatio': 0.3246841925571868,\n",
       "  'totalOtherIncomeExpensesNet': 14000000,\n",
       "  'incomeBeforeTax': 3896000000,\n",
       "  'incomeBeforeTaxRatio': 0.33253670194605667,\n",
       "  'incomeTaxExpense': 123000000,\n",
       "  'netIncome': 4141000000,\n",
       "  'netIncomeRatio': 0.35344827586206895,\n",
       "  'eps': 1.6564,\n",
       "  'epsdiluted': 1.6564,\n",
       "  'weightedAverageShsOut': 2500000000,\n",
       "  'weightedAverageShsOutDil': 2500000000,\n",
       "  'link': 'https://www.sec.gov/Archives/edgar/data/1045810/000104581019000023/0001045810-19-000023-index.html',\n",
       "  'finalLink': 'https://www.sec.gov/Archives/edgar/data/1045810/000104581019000023/nvda-2019x10k.htm'},\n",
       " {'date': '2018-01-28',\n",
       "  'symbol': 'NVDA',\n",
       "  'reportedCurrency': 'USD',\n",
       "  'fillingDate': '2018-02-28 00:00:00',\n",
       "  'acceptedDate': '2018-02-28 16:31:19',\n",
       "  'period': 'FY',\n",
       "  'revenue': 9714000000,\n",
       "  'costOfRevenue': 3892000000,\n",
       "  'grossProfit': 5822000000,\n",
       "  'grossProfitRatio': 0.5993411570928556,\n",
       "  'researchAndDevelopmentExpenses': 1797000000,\n",
       "  'generalAndAdministrativeExpenses': 815000000,\n",
       "  'sellingAndMarketingExpenses': 0.0,\n",
       "  'sellingGeneralAndAdministrativeExpenses': 815000000,\n",
       "  'otherExpenses': -14000000,\n",
       "  'operatingExpenses': 2612000000,\n",
       "  'costAndExpenses': 6504000000,\n",
       "  'interestExpense': 61000000,\n",
       "  'depreciationAndAmortization': 199000000,\n",
       "  'ebitda': 3409000000,\n",
       "  'ebitdaratio': 0.35093679225859586,\n",
       "  'operatingIncome': 3210000000,\n",
       "  'operatingIncomeRatio': 0.3304508956145769,\n",
       "  'totalOtherIncomeExpensesNet': -22000000,\n",
       "  'incomeBeforeTax': 3196000000,\n",
       "  'incomeBeforeTaxRatio': 0.3290096767551987,\n",
       "  'incomeTaxExpense': 282000000,\n",
       "  'netIncome': 3047000000,\n",
       "  'netIncomeRatio': 0.3136709903232448,\n",
       "  'eps': 1.2053006329113924,\n",
       "  'epsdiluted': 1.2053006329113924,\n",
       "  'weightedAverageShsOut': 2528000000,\n",
       "  'weightedAverageShsOutDil': 2528000000,\n",
       "  'link': 'https://www.sec.gov/Archives/edgar/data/1045810/000104581018000010/0001045810-18-000010-index.html',\n",
       "  'finalLink': 'https://www.sec.gov/Archives/edgar/data/1045810/000104581018000010/nvda-2018x10k.htm'},\n",
       " {'date': '2017-01-29',\n",
       "  'symbol': 'NVDA',\n",
       "  'reportedCurrency': 'USD',\n",
       "  'fillingDate': '2017-03-01 00:00:00',\n",
       "  'acceptedDate': '2017-03-01 17:30:49',\n",
       "  'period': 'FY',\n",
       "  'revenue': 6910000000,\n",
       "  'costOfRevenue': 2847000000,\n",
       "  'grossProfit': 4063000000,\n",
       "  'grossProfitRatio': 0.5879884225759768,\n",
       "  'researchAndDevelopmentExpenses': 1463000000,\n",
       "  'generalAndAdministrativeExpenses': 663000000,\n",
       "  'sellingAndMarketingExpenses': 0.0,\n",
       "  'sellingGeneralAndAdministrativeExpenses': 666000000,\n",
       "  'otherExpenses': 3000000.0,\n",
       "  'operatingExpenses': 2129000000,\n",
       "  'costAndExpenses': 4976000000,\n",
       "  'interestExpense': 58000000,\n",
       "  'depreciationAndAmortization': 187000000,\n",
       "  'ebitda': 2121000000,\n",
       "  'ebitdaratio': 0.3069464544138929,\n",
       "  'operatingIncome': 1934000000,\n",
       "  'operatingIncomeRatio': 0.27988422575976846,\n",
       "  'totalOtherIncomeExpensesNet': 0.0,\n",
       "  'incomeBeforeTax': 1905000000,\n",
       "  'incomeBeforeTaxRatio': 0.27568740955137483,\n",
       "  'incomeTaxExpense': 239000000,\n",
       "  'netIncome': 1666000000,\n",
       "  'netIncomeRatio': 0.2410998552821997,\n",
       "  'eps': 0.6417565485362096,\n",
       "  'epsdiluted': 0.6417565485362096,\n",
       "  'weightedAverageShsOut': 2596000000,\n",
       "  'weightedAverageShsOutDil': 2596000000,\n",
       "  'link': 'https://www.sec.gov/Archives/edgar/data/1045810/000104581017000027/0001045810-17-000027-index.html',\n",
       "  'finalLink': 'https://www.sec.gov/Archives/edgar/data/1045810/000104581017000027/nvda-2017x10k.htm'}]"
      ]
     },
     "execution_count": 56,
     "metadata": {},
     "output_type": "execute_result"
    }
   ],
   "source": [
    "r = requests.get(f'https://financialmodelingprep.com/api/v3/income-statement/{company}?limit={years}&apikey={api_key}')\n",
    "\n",
    "data = r.json()\n",
    "\n",
    "data"
   ]
  },
  {
   "cell_type": "code",
   "execution_count": 57,
   "metadata": {},
   "outputs": [],
   "source": [
    "date = []\n",
    "symbol = []\n",
    "revenue = []\n",
    "costOfRevenue = []\n",
    "netIncome = []\n",
    "\n",
    "     \n",
    "for finance in data:\n",
    "    date.append(finance[\"date\"])\n",
    "    symbol.append(finance[\"symbol\"])\n",
    "    revenue.append(finance[\"revenue\"])\n",
    "    costOfRevenue.append(finance[\"costOfRevenue\"])\n",
    "    netIncome.append(finance[\"netIncome\"])\n",
    "\n",
    "      \n",
    "finance_dict = {\n",
    "    \"Date\" : date,\n",
    "    \"Ticket\": symbol,\n",
    "    \"Revenue\" : revenue,\n",
    "    \"CostOfRevenue\" : costOfRevenue,\n",
    "    \"NetIncome\" : netIncome\n",
    "}"
   ]
  },
  {
   "cell_type": "code",
   "execution_count": 58,
   "metadata": {},
   "outputs": [
    {
     "data": {
      "text/plain": [
       "{'Date': ['2021-01-31',\n",
       "  '2020-01-26',\n",
       "  '2019-01-27',\n",
       "  '2018-01-28',\n",
       "  '2017-01-29'],\n",
       " 'Ticket': ['NVDA', 'NVDA', 'NVDA', 'NVDA', 'NVDA'],\n",
       " 'Revenue': [16675000000, 10918000000, 11716000000, 9714000000, 6910000000],\n",
       " 'CostOfRevenue': [6279000000, 4150000000, 4545000000, 3892000000, 2847000000],\n",
       " 'NetIncome': [4332000000, 2796000000, 4141000000, 3047000000, 1666000000]}"
      ]
     },
     "execution_count": 58,
     "metadata": {},
     "output_type": "execute_result"
    }
   ],
   "source": [
    "finance_dict"
   ]
  },
  {
   "cell_type": "code",
   "execution_count": 59,
   "metadata": {},
   "outputs": [],
   "source": [
    "finance_df = pd.DataFrame(finance_dict, columns = ['Date', 'Ticket', 'Revenue', 'CostOfRevenue', 'NetIncome'])"
   ]
  },
  {
   "cell_type": "code",
   "execution_count": 60,
   "metadata": {},
   "outputs": [
    {
     "data": {
      "text/html": [
       "<div>\n",
       "<style scoped>\n",
       "    .dataframe tbody tr th:only-of-type {\n",
       "        vertical-align: middle;\n",
       "    }\n",
       "\n",
       "    .dataframe tbody tr th {\n",
       "        vertical-align: top;\n",
       "    }\n",
       "\n",
       "    .dataframe thead th {\n",
       "        text-align: right;\n",
       "    }\n",
       "</style>\n",
       "<table border=\"1\" class=\"dataframe\">\n",
       "  <thead>\n",
       "    <tr style=\"text-align: right;\">\n",
       "      <th></th>\n",
       "      <th>Date</th>\n",
       "      <th>Ticket</th>\n",
       "      <th>Revenue</th>\n",
       "      <th>CostOfRevenue</th>\n",
       "      <th>NetIncome</th>\n",
       "    </tr>\n",
       "  </thead>\n",
       "  <tbody>\n",
       "    <tr>\n",
       "      <th>0</th>\n",
       "      <td>2021-01-31</td>\n",
       "      <td>NVDA</td>\n",
       "      <td>16675000000</td>\n",
       "      <td>6279000000</td>\n",
       "      <td>4332000000</td>\n",
       "    </tr>\n",
       "    <tr>\n",
       "      <th>1</th>\n",
       "      <td>2020-01-26</td>\n",
       "      <td>NVDA</td>\n",
       "      <td>10918000000</td>\n",
       "      <td>4150000000</td>\n",
       "      <td>2796000000</td>\n",
       "    </tr>\n",
       "    <tr>\n",
       "      <th>2</th>\n",
       "      <td>2019-01-27</td>\n",
       "      <td>NVDA</td>\n",
       "      <td>11716000000</td>\n",
       "      <td>4545000000</td>\n",
       "      <td>4141000000</td>\n",
       "    </tr>\n",
       "    <tr>\n",
       "      <th>3</th>\n",
       "      <td>2018-01-28</td>\n",
       "      <td>NVDA</td>\n",
       "      <td>9714000000</td>\n",
       "      <td>3892000000</td>\n",
       "      <td>3047000000</td>\n",
       "    </tr>\n",
       "    <tr>\n",
       "      <th>4</th>\n",
       "      <td>2017-01-29</td>\n",
       "      <td>NVDA</td>\n",
       "      <td>6910000000</td>\n",
       "      <td>2847000000</td>\n",
       "      <td>1666000000</td>\n",
       "    </tr>\n",
       "  </tbody>\n",
       "</table>\n",
       "</div>"
      ],
      "text/plain": [
       "         Date Ticket      Revenue  CostOfRevenue   NetIncome\n",
       "0  2021-01-31   NVDA  16675000000     6279000000  4332000000\n",
       "1  2020-01-26   NVDA  10918000000     4150000000  2796000000\n",
       "2  2019-01-27   NVDA  11716000000     4545000000  4141000000\n",
       "3  2018-01-28   NVDA   9714000000     3892000000  3047000000\n",
       "4  2017-01-29   NVDA   6910000000     2847000000  1666000000"
      ]
     },
     "execution_count": 60,
     "metadata": {},
     "output_type": "execute_result"
    }
   ],
   "source": [
    "finance_df"
   ]
  },
  {
   "cell_type": "code",
   "execution_count": 61,
   "metadata": {},
   "outputs": [
    {
     "name": "stdout",
     "output_type": "stream",
     "text": [
      "Date             object\n",
      "Ticket           object\n",
      "Revenue           int64\n",
      "CostOfRevenue     int64\n",
      "NetIncome         int64\n",
      "dtype: object\n"
     ]
    }
   ],
   "source": [
    "print(finance_df.dtypes)"
   ]
  },
  {
   "cell_type": "code",
   "execution_count": 62,
   "metadata": {},
   "outputs": [],
   "source": [
    "financedf = finance_df.sort_values(by=['Date'])"
   ]
  },
  {
   "cell_type": "code",
   "execution_count": 63,
   "metadata": {},
   "outputs": [
    {
     "data": {
      "text/html": [
       "<div>\n",
       "<style scoped>\n",
       "    .dataframe tbody tr th:only-of-type {\n",
       "        vertical-align: middle;\n",
       "    }\n",
       "\n",
       "    .dataframe tbody tr th {\n",
       "        vertical-align: top;\n",
       "    }\n",
       "\n",
       "    .dataframe thead th {\n",
       "        text-align: right;\n",
       "    }\n",
       "</style>\n",
       "<table border=\"1\" class=\"dataframe\">\n",
       "  <thead>\n",
       "    <tr style=\"text-align: right;\">\n",
       "      <th></th>\n",
       "      <th>Date</th>\n",
       "      <th>Ticket</th>\n",
       "      <th>Revenue</th>\n",
       "      <th>CostOfRevenue</th>\n",
       "      <th>NetIncome</th>\n",
       "    </tr>\n",
       "  </thead>\n",
       "  <tbody>\n",
       "    <tr>\n",
       "      <th>4</th>\n",
       "      <td>2017-01-29</td>\n",
       "      <td>NVDA</td>\n",
       "      <td>6910000000</td>\n",
       "      <td>2847000000</td>\n",
       "      <td>1666000000</td>\n",
       "    </tr>\n",
       "    <tr>\n",
       "      <th>3</th>\n",
       "      <td>2018-01-28</td>\n",
       "      <td>NVDA</td>\n",
       "      <td>9714000000</td>\n",
       "      <td>3892000000</td>\n",
       "      <td>3047000000</td>\n",
       "    </tr>\n",
       "    <tr>\n",
       "      <th>2</th>\n",
       "      <td>2019-01-27</td>\n",
       "      <td>NVDA</td>\n",
       "      <td>11716000000</td>\n",
       "      <td>4545000000</td>\n",
       "      <td>4141000000</td>\n",
       "    </tr>\n",
       "    <tr>\n",
       "      <th>1</th>\n",
       "      <td>2020-01-26</td>\n",
       "      <td>NVDA</td>\n",
       "      <td>10918000000</td>\n",
       "      <td>4150000000</td>\n",
       "      <td>2796000000</td>\n",
       "    </tr>\n",
       "    <tr>\n",
       "      <th>0</th>\n",
       "      <td>2021-01-31</td>\n",
       "      <td>NVDA</td>\n",
       "      <td>16675000000</td>\n",
       "      <td>6279000000</td>\n",
       "      <td>4332000000</td>\n",
       "    </tr>\n",
       "  </tbody>\n",
       "</table>\n",
       "</div>"
      ],
      "text/plain": [
       "         Date Ticket      Revenue  CostOfRevenue   NetIncome\n",
       "4  2017-01-29   NVDA   6910000000     2847000000  1666000000\n",
       "3  2018-01-28   NVDA   9714000000     3892000000  3047000000\n",
       "2  2019-01-27   NVDA  11716000000     4545000000  4141000000\n",
       "1  2020-01-26   NVDA  10918000000     4150000000  2796000000\n",
       "0  2021-01-31   NVDA  16675000000     6279000000  4332000000"
      ]
     },
     "execution_count": 63,
     "metadata": {},
     "output_type": "execute_result"
    }
   ],
   "source": [
    "financedf"
   ]
  },
  {
   "cell_type": "code",
   "execution_count": 64,
   "metadata": {},
   "outputs": [],
   "source": [
    "financedf['Revenue'] = financedf.apply(lambda x: \"{:,}\".format(x['Revenue']), axis=1)"
   ]
  },
  {
   "cell_type": "code",
   "execution_count": 73,
   "metadata": {},
   "outputs": [
    {
     "data": {
      "image/png": "[encoded data removed]",
      "text/plain": [
       "<Figure size 432x288 with 1 Axes>"
      ]
     },
     "metadata": {
      "needs_background": "light"
     },
     "output_type": "display_data"
    }
   ],
   "source": [
    "plt.plot(financedf['Date'], financedf['Revenue'], color='red', marker='o')\n",
    "plt.title('Growth Revenue for NVDA', fontsize=14)\n",
    "plt.xlabel('Year', fontsize=14)\n",
    "plt.ylabel('Financial Analysis', fontsize=14)\n",
    "plt.xticks(financedf['Date'],['2017', '2018', '2019', '2020', '2021'])\n",
    "plt.show()"
   ]
  }
 ],
 "metadata": {
  "kernelspec": {
   "display_name": "Python 3",
   "language": "python",
   "name": "python3"
  },
  "language_info": {
   "codemirror_mode": {
    "name": "ipython",
    "version": 3
   },
   "file_extension": ".py",
   "mimetype": "text/x-python",
   "name": "python",
   "nbconvert_exporter": "python",
   "pygments_lexer": "ipython3",
   "version": "3.8.5"
  }
 },
 "nbformat": 4,
 "nbformat_minor": 4
}
