{
 "cells": [
  {
   "cell_type": "code",
   "execution_count": 1,
   "metadata": {},
   "outputs": [],
   "source": [
    "import requests\n",
    "import pandas as pd\n",
    "from bs4 import BeautifulSoup"
   ]
  },
  {
   "cell_type": "code",
   "execution_count": 5,
   "metadata": {},
   "outputs": [
    {
     "name": "stdout",
     "output_type": "stream",
     "text": [
      "Request Successful\n",
      "https://www.sec.gov/cgi-bin/browse-edgar?action=getcompany&CIK=1265107&type=10-k&dateb=20190101&owner=exclude&start=&output=&count=100\n"
     ]
    }
   ],
   "source": [
    "endpoint = r\"https://www.sec.gov/cgi-bin/browse-edgar\"\n",
    "\n",
    "\n",
    "param_dict = {'action':'getcompany',\n",
    "              'CIK':'1265107',\n",
    "              'type':'10-k',\n",
    "              'dateb':'20190101',\n",
    "              'owner':'exclude',\n",
    "              'start':'',\n",
    "              'output':'',\n",
    "              'count':'100'}\n",
    "\n",
    "\n",
    "response = requests.get(url = endpoint, params = param_dict)\n",
    "soup = BeautifulSoup(response.content, 'html.parser')\n",
    "\n",
    "\n",
    "print('Request Successful')\n",
    "print(response.url)"
   ]
  },
  {
   "cell_type": "code",
   "execution_count": 6,
   "metadata": {},
   "outputs": [
    {
     "name": "stdout",
     "output_type": "stream",
     "text": [
      "----------------------------------------------------------------------------------------------------\n",
      "Filing Type: 10-K\n",
      "Filing Date: 2018-03-07\n",
      "Filing Number: 333-11002518671437\n",
      "Document Link: https://www.sec.gov/Archives/edgar/data/1265107/000126510718000013/0001265107-18-000013-index.htm\n",
      "Filing Number Link: https://www.sec.gov/cgi-bin/browse-edgar?action=getcompany&filenum=333-110025&owner=exclude&count=100\n",
      "Interactive Data Link: https://www.sec.gov/cgi-bin/viewer?action=view&cik=1265107&accession_number=0001265107-18-000013&xbrl_type=v\n",
      "----------------------------------------------------------------------------------------------------\n",
      "Filing Type: 10-K\n",
      "Filing Date: 2017-03-13\n",
      "Filing Number: 333-11002517683575\n",
      "Document Link: https://www.sec.gov/Archives/edgar/data/1265107/000126510717000007/0001265107-17-000007-index.htm\n",
      "Filing Number Link: https://www.sec.gov/cgi-bin/browse-edgar?action=getcompany&filenum=333-110025&owner=exclude&count=100\n",
      "Interactive Data Link: https://www.sec.gov/cgi-bin/viewer?action=view&cik=1265107&accession_number=0001265107-17-000007&xbrl_type=v\n"
     ]
    }
   ],
   "source": [
    "\n",
    "doc_table = soup.find_all('table', class_='tableFile2')\n",
    "\n",
    "\n",
    "base_url_sec = r\"https://www.sec.gov\"\n",
    "\n",
    "master_list = []\n",
    "\n",
    "\n",
    "for row in doc_table[0].find_all('tr')[0:3]:\n",
    "    \n",
    "    \n",
    "    cols = row.find_all('td')\n",
    "    \n",
    "    \n",
    "    if len(cols) != 0:        \n",
    "        \n",
    "        \n",
    "        filing_type = cols[0].text.strip()                 \n",
    "        filing_date = cols[3].text.strip()\n",
    "        filing_numb = cols[4].text.strip()\n",
    "        \n",
    "        \n",
    "        filing_doc_href = cols[1].find('a', {'href':True, 'id':'documentsbutton'})       \n",
    "        filing_int_href = cols[1].find('a', {'href':True, 'id':'interactiveDataBtn'})\n",
    "        filing_num_href = cols[4].find('a')\n",
    "        \n",
    "        \n",
    "        if filing_doc_href != None:\n",
    "            filing_doc_link = base_url_sec + filing_doc_href['href'] \n",
    "        else:\n",
    "            filing_doc_link = 'no link'\n",
    "        \n",
    "        \n",
    "        if filing_int_href != None:\n",
    "            filing_int_link = base_url_sec + filing_int_href['href'] \n",
    "        else:\n",
    "            filing_int_link = 'no link'\n",
    "        \n",
    "        \n",
    "        if filing_num_href != None:\n",
    "            filing_num_link = base_url_sec + filing_num_href['href'] \n",
    "        else:\n",
    "            filing_num_link = 'no link'\n",
    "        \n",
    "        \n",
    "        file_dict = {}\n",
    "        file_dict['file_type'] = filing_type\n",
    "        file_dict['file_number'] = filing_numb\n",
    "        file_dict['file_date'] = filing_date\n",
    "        file_dict['links'] = {}\n",
    "        file_dict['links']['documents'] = filing_doc_link\n",
    "        file_dict['links']['interactive_data'] = filing_int_link\n",
    "        file_dict['links']['filing_number'] = filing_num_link\n",
    "    \n",
    "        \n",
    "        print('-'*100)        \n",
    "        print(\"Filing Type: \" + filing_type)\n",
    "        print(\"Filing Date: \" + filing_date)\n",
    "        print(\"Filing Number: \" + filing_numb)\n",
    "        print(\"Document Link: \" + filing_doc_link)\n",
    "        print(\"Filing Number Link: \" + filing_num_link)\n",
    "        print(\"Interactive Data Link: \" + filing_int_link)\n",
    "        \n",
    "        \n",
    "        master_list.append(file_dict)\n"
   ]
  },
  {
   "cell_type": "code",
   "execution_count": 7,
   "metadata": {},
   "outputs": [
    {
     "name": "stdout",
     "output_type": "stream",
     "text": [
      "----------------------------------------------------------------------------------------------------\n",
      "https://www.sec.gov/Archives/edgar/data/1265107/000126510718000013/0001265107-18-000013-index.htm\n",
      "https://www.sec.gov/cgi-bin/browse-edgar?action=getcompany&filenum=333-110025&owner=exclude&count=100\n",
      "https://www.sec.gov/cgi-bin/viewer?action=view&cik=1265107&accession_number=0001265107-18-000013&xbrl_type=v\n",
      "----------------------------------------------------------------------------------------------------\n",
      "https://www.sec.gov/Archives/edgar/data/1265107/000126510717000007/0001265107-17-000007-index.htm\n",
      "https://www.sec.gov/cgi-bin/browse-edgar?action=getcompany&filenum=333-110025&owner=exclude&count=100\n",
      "https://www.sec.gov/cgi-bin/viewer?action=view&cik=1265107&accession_number=0001265107-17-000007&xbrl_type=v\n"
     ]
    }
   ],
   "source": [
    "for report in master_list[0:2]:\n",
    "    \n",
    "    print('-'*100)\n",
    "    print(report['links']['documents'])\n",
    "    print(report['links']['filing_number'])\n",
    "    print(report['links']['interactive_data'])"
   ]
  },
  {
   "cell_type": "code",
   "execution_count": 8,
   "metadata": {},
   "outputs": [
    {
     "name": "stdout",
     "output_type": "stream",
     "text": [
      "Request Successful\n",
      "https://www.sec.gov/cgi-bin/browse-edgar?action=getcompany&CIK=1265107&type=10-k&dateb=20190101&owner=exclude&start=&output=atom&count=100\n"
     ]
    }
   ],
   "source": [
    "\n",
    "endpoint = r\"https://www.sec.gov/cgi-bin/browse-edgar\"\n",
    "\n",
    "\n",
    "param_dict = {'action':'getcompany',\n",
    "              'CIK':'1265107',\n",
    "              'type':'10-k',\n",
    "              'dateb':'20190101',\n",
    "              'owner':'exclude',\n",
    "              'start':'',\n",
    "              'output':'atom',\n",
    "              'count':'100'}\n",
    "\n",
    "\n",
    "response = requests.get(url = endpoint, params = param_dict)\n",
    "soup = BeautifulSoup(response.content, 'lxml')\n",
    "\n",
    "\n",
    "print('Request Successful')\n",
    "print(response.url)"
   ]
  },
  {
   "cell_type": "code",
   "execution_count": 10,
   "metadata": {},
   "outputs": [
    {
     "name": "stdout",
     "output_type": "stream",
     "text": [
      "----------------------------------------------------------------------------------------------------\n",
      "Annual report [Section 13 and 15(d), not S-K Item 405]\n",
      "333-110025\n",
      "https://www.sec.gov/cgi-bin/browse-edgar?action=getcompany&filenum=333-110025&owner=exclude&count=100\n",
      "https://www.sec.gov/Archives/edgar/data/1265107/000126510718000013/0001265107-18-000013-index.htm\n",
      "----------------------------------------------------------------------------------------------------\n",
      "Annual report [Section 13 and 15(d), not S-K Item 405]\n",
      "333-110025\n",
      "https://www.sec.gov/cgi-bin/browse-edgar?action=getcompany&filenum=333-110025&owner=exclude&count=100\n",
      "https://www.sec.gov/Archives/edgar/data/1265107/000126510717000007/0001265107-17-000007-index.htm\n"
     ]
    }
   ],
   "source": [
    "entries = soup.find_all('entry')\n",
    "\n",
    "\n",
    "master_list_xml = []\n",
    "\n",
    "\n",
    "for entry in entries[0:2]:\n",
    "    \n",
    "\n",
    "    accession_num = entry.find('accession-number').text\n",
    "    \n",
    "\n",
    "    entry_dict = {}\n",
    "    entry_dict[accession_num] = {}\n",
    "    \n",
    "   \n",
    "    category_info = entry.find('category')    \n",
    "    entry_dict[accession_num]['category'] = {}\n",
    "    entry_dict[accession_num]['category']['label'] = category_info['label']\n",
    "    entry_dict[accession_num]['category']['scheme'] = category_info['scheme']\n",
    "    entry_dict[accession_num]['category']['term'] =  category_info['term']\n",
    "\n",
    "\n",
    "    entry_dict[accession_num]['file_info'] = {}\n",
    "    entry_dict[accession_num]['file_info']['act'] = entry.find('act').text\n",
    "    entry_dict[accession_num]['file_info']['file_number'] = entry.find('file-number').text\n",
    "    entry_dict[accession_num]['file_info']['file_number_href'] = entry.find('file-number-href').text\n",
    "    entry_dict[accession_num]['file_info']['filing_date'] =  entry.find('filing-date').text\n",
    "    entry_dict[accession_num]['file_info']['filing_href'] = entry.find('filing-href').text\n",
    "    entry_dict[accession_num]['file_info']['filing_type'] =  entry.find('filing-type').text\n",
    "    entry_dict[accession_num]['file_info']['form_number'] =  entry.find('film-number').text\n",
    "    entry_dict[accession_num]['file_info']['form_name'] =  entry.find('form-name').text\n",
    "    entry_dict[accession_num]['file_info']['file_size'] =  entry.find('size').text\n",
    "    \n",
    "   \n",
    "    entry_dict[accession_num]['request_info'] = {}\n",
    "    entry_dict[accession_num]['request_info']['link'] =  entry.find('link')['href']\n",
    "    entry_dict[accession_num]['request_info']['title'] =  entry.find('title').text\n",
    "    entry_dict[accession_num]['request_info']['last_updated'] =  entry.find('updated').text\n",
    "    \n",
    "    \n",
    "    master_list_xml.append(entry_dict)\n",
    "    \n",
    "    print('-'*100)\n",
    "    print(entry.find('form-name').text)\n",
    "    print(entry.find('file-number').text)\n",
    "    print(entry.find('file-number-href').text)\n",
    "    print(entry.find('link')['href'])"
   ]
  },
  {
   "cell_type": "code",
   "execution_count": 11,
   "metadata": {},
   "outputs": [
    {
     "name": "stdout",
     "output_type": "stream",
     "text": [
      "{'label': 'form type', 'scheme': 'https://www.sec.gov/', 'term': '10-K'}\n"
     ]
    }
   ],
   "source": [
    "import pprint\n",
    "pprint.pprint(master_list_xml[0]['0001265107-18-000013']['category'])"
   ]
  },
  {
   "cell_type": "code",
   "execution_count": 12,
   "metadata": {},
   "outputs": [
    {
     "name": "stdout",
     "output_type": "stream",
     "text": [
      "----------------------------------------------------------------------------------------------------\n",
      "https://www.sec.gov/cgi-bin/browse-edgar?action=getcompany&CIK=0001265107&type=&datea=&dateb=20190101&owner=exclude&count=100&output=atom&start=100\n"
     ]
    }
   ],
   "source": [
    "\n",
    "endpoint = r\"https://www.sec.gov/cgi-bin/browse-edgar\"\n",
    "\n",
    "\n",
    "param_dict = {'action':'getcompany',\n",
    "              'CIK':'1265107',\n",
    "              'dateb':'20190101',\n",
    "              'owner':'exclude',\n",
    "              'start':'',\n",
    "              'output':'atom',\n",
    "              'count':'100'}\n",
    "\n",
    "\n",
    "response = requests.get(url = endpoint, params = param_dict)\n",
    "soup = BeautifulSoup(response.content, 'lxml')\n",
    "\n",
    "\n",
    "links = soup.find_all('link',{'rel':'next'})\n",
    "\n",
    "\n",
    "while soup.find_all('link',{'rel':'next'}) != []:\n",
    "\n",
    "    \n",
    "    next_page_link = links[0]['href']  \n",
    "    \n",
    "    print('-'*100)\n",
    "    print(next_page_link)\n",
    "    \n",
    "\n",
    "    response = requests.get(url = next_page_link)\n",
    "    soup = BeautifulSoup(response.content, 'lxml')\n",
    "    \n",
    "    \n",
    "    links = soup.find_all('link',{'rel':'next'})"
   ]
  },
  {
   "cell_type": "code",
   "execution_count": null,
   "metadata": {},
   "outputs": [],
   "source": []
  }
 ],
 "metadata": {
  "kernelspec": {
   "display_name": "Python 3",
   "language": "python",
   "name": "python3"
  },
  "language_info": {
   "codemirror_mode": {
    "name": "ipython",
    "version": 3
   },
   "file_extension": ".py",
   "mimetype": "text/x-python",
   "name": "python",
   "nbconvert_exporter": "python",
   "pygments_lexer": "ipython3",
   "version": "3.8.5"
  }
 },
 "nbformat": 4,
 "nbformat_minor": 4
}
